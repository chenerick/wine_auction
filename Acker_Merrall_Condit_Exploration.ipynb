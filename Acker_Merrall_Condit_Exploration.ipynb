{
 "cells": [
  {
   "cell_type": "markdown",
   "metadata": {},
   "source": [
    "# Acker Merrall & Condit"
   ]
  },
  {
   "cell_type": "markdown",
   "metadata": {},
   "source": [
    "## Scraping Data"
   ]
  },
  {
   "cell_type": "code",
   "execution_count": 1,
   "metadata": {
    "collapsed": false
   },
   "outputs": [],
   "source": [
    "#acker merrall and condit! not ackerman! XD\n",
    "import Scrapers.ackerman_scraper as ack_scraper\n",
    "import numpy as np\n",
    "import matplotlib.pyplot as plt\n",
    "import re\n",
    "import pandas as pd\n",
    "%matplotlib inline  \n",
    "import warnings\n",
    "warnings.filterwarnings(\"ignore\")\n",
    "from scipy import stats\n",
    "import datetime as dt\n",
    "from visualizations_helpers import *  "
   ]
  },
  {
   "cell_type": "code",
   "execution_count": 2,
   "metadata": {
    "collapsed": false
   },
   "outputs": [
    {
     "name": "stdout",
     "output_type": "stream",
     "text": [
      "{1202: '187 Oct 12, 2018 (NY)', 1197: '185A Sep 22, 2018 (HK)', 1196: '186 Sep 7, 2018 (NY)', 1192: '185 Jun 20, 2018 (NY)', 1190: '184A Jun 9, 2018 (HK)', 1188: '184 May 16, 2018 (NY)', 1187: '183A Apr 21, 2018 (HK)', 1185: '183 Apr 7, 2018 (NY)', 1184: '182A Mar 24, 2018 (HK)', 1181: '182 Mar 10, 2018 (NY)', 1179: '181 Feb 9, 2018 (NY)', 1177: '181A Jan 27, 2018 (HK)', 1174: '179 Dec 13, 2017 (NY)', 1173: '177A Dec 9, 2017 (HK)', 1172: '178 Nov 18, 2017 (NY)', 1170: '176A Nov 4, 2017 (HK)', 1168: '177 Oct 13, 2017 (NY)', 1165: '175A Sep 23, 2017 (HK)', 1163: '176 Sep 9, 2017 (NY)'}\n",
      "1202 187 Oct 12, 2018 (NY)\n",
      "1197 185A Sep 22, 2018 (HK)\n",
      "1196 186 Sep 7, 2018 (NY)\n",
      "1192 185 Jun 20, 2018 (NY)\n",
      "1190 184A Jun 9, 2018 (HK)\n",
      "1188 184 May 16, 2018 (NY)\n",
      "1187 183A Apr 21, 2018 (HK)\n",
      "1185 183 Apr 7, 2018 (NY)\n",
      "1184 182A Mar 24, 2018 (HK)\n",
      "1181 182 Mar 10, 2018 (NY)\n",
      "1179 181 Feb 9, 2018 (NY)\n",
      "1177 181A Jan 27, 2018 (HK)\n",
      "1174 179 Dec 13, 2017 (NY)\n",
      "1173 177A Dec 9, 2017 (HK)\n",
      "1172 178 Nov 18, 2017 (NY)\n",
      "1170 176A Nov 4, 2017 (HK)\n",
      "1168 177 Oct 13, 2017 (NY)\n",
      "1165 175A Sep 23, 2017 (HK)\n",
      "1163 176 Sep 9, 2017 (NY)\n"
     ]
    }
   ],
   "source": [
    "raw = ack_scraper.dataframe_ackerman_auction()"
   ]
  },
  {
   "cell_type": "code",
   "execution_count": 3,
   "metadata": {
    "collapsed": false
   },
   "outputs": [
    {
     "name": "stdout",
     "output_type": "stream",
     "text": [
      "(31962, 14)\n"
     ]
    },
    {
     "data": {
      "text/html": [
       "<div>\n",
       "<table border=\"1\" class=\"dataframe\">\n",
       "  <thead>\n",
       "    <tr style=\"text-align: right;\">\n",
       "      <th></th>\n",
       "      <th>Auction.Date</th>\n",
       "      <th>Auction.ID</th>\n",
       "      <th>Auction.Name</th>\n",
       "      <th>BottleQuantity</th>\n",
       "      <th>BottleSummary</th>\n",
       "      <th>Conditions</th>\n",
       "      <th>Designation</th>\n",
       "      <th>LotNo</th>\n",
       "      <th>Producer</th>\n",
       "      <th>ProducerAndDesignation</th>\n",
       "      <th>Size</th>\n",
       "      <th>SoldAmount</th>\n",
       "      <th>Vintage</th>\n",
       "      <th>Wine</th>\n",
       "    </tr>\n",
       "  </thead>\n",
       "  <tbody>\n",
       "    <tr>\n",
       "      <th>0</th>\n",
       "      <td>None</td>\n",
       "      <td>1202</td>\n",
       "      <td>187 Oct 12, 2018 (NY)</td>\n",
       "      <td>1</td>\n",
       "      <td>1 bottle</td>\n",
       "      <td>bn sdc</td>\n",
       "      <td>None</td>\n",
       "      <td>1</td>\n",
       "      <td>None</td>\n",
       "      <td></td>\n",
       "      <td>bottle</td>\n",
       "      <td>3968.0</td>\n",
       "      <td>1982</td>\n",
       "      <td>Chateau Angelus</td>\n",
       "    </tr>\n",
       "    <tr>\n",
       "      <th>1</th>\n",
       "      <td>None</td>\n",
       "      <td>1202</td>\n",
       "      <td>187 Oct 12, 2018 (NY)</td>\n",
       "      <td>1</td>\n",
       "      <td>1 bottle</td>\n",
       "      <td></td>\n",
       "      <td>None</td>\n",
       "      <td>1</td>\n",
       "      <td>None</td>\n",
       "      <td></td>\n",
       "      <td>bottle</td>\n",
       "      <td>3968.0</td>\n",
       "      <td>1983</td>\n",
       "      <td>Chateau Angelus</td>\n",
       "    </tr>\n",
       "    <tr>\n",
       "      <th>2</th>\n",
       "      <td>None</td>\n",
       "      <td>1202</td>\n",
       "      <td>187 Oct 12, 2018 (NY)</td>\n",
       "      <td>1</td>\n",
       "      <td>1 bottle</td>\n",
       "      <td>spc</td>\n",
       "      <td>None</td>\n",
       "      <td>1</td>\n",
       "      <td>None</td>\n",
       "      <td></td>\n",
       "      <td>bottle</td>\n",
       "      <td>3968.0</td>\n",
       "      <td>1985</td>\n",
       "      <td>Chateau Angelus</td>\n",
       "    </tr>\n",
       "    <tr>\n",
       "      <th>3</th>\n",
       "      <td>None</td>\n",
       "      <td>1202</td>\n",
       "      <td>187 Oct 12, 2018 (NY)</td>\n",
       "      <td>1</td>\n",
       "      <td>1 bottle</td>\n",
       "      <td></td>\n",
       "      <td>None</td>\n",
       "      <td>1</td>\n",
       "      <td>None</td>\n",
       "      <td></td>\n",
       "      <td>bottle</td>\n",
       "      <td>3968.0</td>\n",
       "      <td>1988</td>\n",
       "      <td>Chateau Angelus</td>\n",
       "    </tr>\n",
       "    <tr>\n",
       "      <th>4</th>\n",
       "      <td>None</td>\n",
       "      <td>1202</td>\n",
       "      <td>187 Oct 12, 2018 (NY)</td>\n",
       "      <td>1</td>\n",
       "      <td>1 bottle</td>\n",
       "      <td></td>\n",
       "      <td>None</td>\n",
       "      <td>1</td>\n",
       "      <td>None</td>\n",
       "      <td></td>\n",
       "      <td>bottle</td>\n",
       "      <td>3968.0</td>\n",
       "      <td>1990</td>\n",
       "      <td>Chateau Angelus</td>\n",
       "    </tr>\n",
       "  </tbody>\n",
       "</table>\n",
       "</div>"
      ],
      "text/plain": [
       "  Auction.Date  Auction.ID           Auction.Name  BottleQuantity  \\\n",
       "0         None        1202  187 Oct 12, 2018 (NY)               1   \n",
       "1         None        1202  187 Oct 12, 2018 (NY)               1   \n",
       "2         None        1202  187 Oct 12, 2018 (NY)               1   \n",
       "3         None        1202  187 Oct 12, 2018 (NY)               1   \n",
       "4         None        1202  187 Oct 12, 2018 (NY)               1   \n",
       "\n",
       "  BottleSummary Conditions Designation LotNo Producer ProducerAndDesignation  \\\n",
       "0      1 bottle     bn sdc        None     1     None                          \n",
       "1      1 bottle                   None     1     None                          \n",
       "2      1 bottle        spc        None     1     None                          \n",
       "3      1 bottle                   None     1     None                          \n",
       "4      1 bottle                   None     1     None                          \n",
       "\n",
       "     Size  SoldAmount Vintage             Wine  \n",
       "0  bottle      3968.0    1982  Chateau Angelus  \n",
       "1  bottle      3968.0    1983  Chateau Angelus  \n",
       "2  bottle      3968.0    1985  Chateau Angelus  \n",
       "3  bottle      3968.0    1988  Chateau Angelus  \n",
       "4  bottle      3968.0    1990  Chateau Angelus  "
      ]
     },
     "execution_count": 3,
     "metadata": {},
     "output_type": "execute_result"
    }
   ],
   "source": [
    "print( raw.shape )\n",
    "raw.head()"
   ]
  },
  {
   "cell_type": "markdown",
   "metadata": {},
   "source": [
    "## Basic Data Cleaning"
   ]
  },
  {
   "cell_type": "code",
   "execution_count": 4,
   "metadata": {
    "collapsed": false
   },
   "outputs": [
    {
     "data": {
      "text/plain": [
       "['Auction.Date',\n",
       " (31962, 14),\n",
       " 'Designation',\n",
       " (18274, 14),\n",
       " 'Producer',\n",
       " (2515, 14)]"
      ]
     },
     "execution_count": 4,
     "metadata": {},
     "output_type": "execute_result"
    }
   ],
   "source": [
    "# identify which columsn to look into how to clean for null values\n",
    "toFix = []\n",
    "for column, typecol in raw.dtypes.iteritems():\n",
    "    #if( typecol == \"object\"):\n",
    "    #    blanks = raw[ raw[column] == \"\" ]\n",
    "    #else:\n",
    "    blanks = raw[ raw[column].isnull() ]\n",
    "    if(blanks.size):\n",
    "        toFix.append(column)\n",
    "        toFix.append(blanks.shape)\n",
    "toFix"
   ]
  },
  {
   "cell_type": "markdown",
   "metadata": {},
   "source": [
    "Auction Date may not be important yet, but for time, may be need to be parsed from the Auction Name?\n",
    "We'll default blank designation and producers to the wine\n",
    "If just one is blank, the ProducerAndDesignation column will still have things and that will be the primary anyway"
   ]
  },
  {
   "cell_type": "code",
   "execution_count": 5,
   "metadata": {
    "collapsed": false
   },
   "outputs": [
    {
     "name": "stdout",
     "output_type": "stream",
     "text": [
      "True\n",
      "True\n"
     ]
    }
   ],
   "source": [
    "# confirming that's true\n",
    "only_producer = raw[ raw[\"Producer\"].isnull() & raw[\"Designation\"].notnull() ]\n",
    "producer_check = only_producer[\"Designation\"] == only_producer[\"ProducerAndDesignation\"]\n",
    "print(producer_check.all())\n",
    "\n",
    "only_designation = raw[ raw[\"Designation\"].isnull() & raw[\"Producer\"].notnull() ]\n",
    "designation_check = only_designation[\"Producer\"] == only_designation[\"ProducerAndDesignation\"]\n",
    "print(designation_check.all())"
   ]
  },
  {
   "cell_type": "code",
   "execution_count": 6,
   "metadata": {
    "collapsed": false
   },
   "outputs": [
    {
     "data": {
      "text/html": [
       "<div>\n",
       "<table border=\"1\" class=\"dataframe\">\n",
       "  <thead>\n",
       "    <tr style=\"text-align: right;\">\n",
       "      <th></th>\n",
       "      <th>Auction.Date</th>\n",
       "      <th>Auction.ID</th>\n",
       "      <th>Auction.Name</th>\n",
       "      <th>BottleQuantity</th>\n",
       "      <th>BottleSummary</th>\n",
       "      <th>Conditions</th>\n",
       "      <th>Designation</th>\n",
       "      <th>LotNo</th>\n",
       "      <th>Producer</th>\n",
       "      <th>ProducerAndDesignation</th>\n",
       "      <th>Size</th>\n",
       "      <th>SoldAmount</th>\n",
       "      <th>Vintage</th>\n",
       "      <th>Wine</th>\n",
       "    </tr>\n",
       "  </thead>\n",
       "  <tbody>\n",
       "  </tbody>\n",
       "</table>\n",
       "</div>"
      ],
      "text/plain": [
       "Empty DataFrame\n",
       "Columns: [Auction.Date, Auction.ID, Auction.Name, BottleQuantity, BottleSummary, Conditions, Designation, LotNo, Producer, ProducerAndDesignation, Size, SoldAmount, Vintage, Wine]\n",
       "Index: []"
      ]
     },
     "execution_count": 6,
     "metadata": {},
     "output_type": "execute_result"
    }
   ],
   "source": [
    "# filling in when both are empty\n",
    "raw.loc[ raw[\"ProducerAndDesignation\"] == \"\"] = raw.loc[ raw[\"ProducerAndDesignation\"] == \"\", [\"Wine\"] ]\n",
    "\n",
    "# confirm it's fixed\n",
    "raw[ raw[\"ProducerAndDesignation\"] == \"\"].isnull()"
   ]
  },
  {
   "cell_type": "markdown",
   "metadata": {},
   "source": [
    "## Aggregation of Data for Individual Bottles"
   ]
  },
  {
   "cell_type": "code",
   "execution_count": 7,
   "metadata": {
    "collapsed": false
   },
   "outputs": [
    {
     "name": "stdout",
     "output_type": "stream",
     "text": [
      "(12840, 15)\n"
     ]
    },
    {
     "data": {
      "text/html": [
       "<div>\n",
       "<table border=\"1\" class=\"dataframe\">\n",
       "  <thead>\n",
       "    <tr style=\"text-align: right;\">\n",
       "      <th></th>\n",
       "      <th>index</th>\n",
       "      <th>Auction.Date</th>\n",
       "      <th>Auction.ID</th>\n",
       "      <th>Auction.Name</th>\n",
       "      <th>BottleQuantity</th>\n",
       "      <th>BottleSummary</th>\n",
       "      <th>Conditions</th>\n",
       "      <th>Designation</th>\n",
       "      <th>LotNo</th>\n",
       "      <th>Producer</th>\n",
       "      <th>ProducerAndDesignation</th>\n",
       "      <th>Size</th>\n",
       "      <th>SoldAmount</th>\n",
       "      <th>Vintage</th>\n",
       "      <th>Wine</th>\n",
       "    </tr>\n",
       "  </thead>\n",
       "  <tbody>\n",
       "    <tr>\n",
       "      <th>0</th>\n",
       "      <td>356</td>\n",
       "      <td>None</td>\n",
       "      <td>1202.0</td>\n",
       "      <td>187 Oct 12, 2018 (NY)</td>\n",
       "      <td>12.0</td>\n",
       "      <td>12 bottles</td>\n",
       "      <td>2vlbsl 3lwrl</td>\n",
       "      <td>None</td>\n",
       "      <td>77</td>\n",
       "      <td>chateau de la tour</td>\n",
       "      <td>chateau de la tour</td>\n",
       "      <td>bottle</td>\n",
       "      <td>2232.0</td>\n",
       "      <td>2001</td>\n",
       "      <td>Les Forts de Latour</td>\n",
       "    </tr>\n",
       "    <tr>\n",
       "      <th>1</th>\n",
       "      <td>486</td>\n",
       "      <td>None</td>\n",
       "      <td>1202.0</td>\n",
       "      <td>187 Oct 12, 2018 (NY)</td>\n",
       "      <td>1.0</td>\n",
       "      <td>1 bottle</td>\n",
       "      <td>nl</td>\n",
       "      <td>None</td>\n",
       "      <td>95</td>\n",
       "      <td>A. Rousseau</td>\n",
       "      <td>A. Rousseau</td>\n",
       "      <td>bottle</td>\n",
       "      <td>4960.0</td>\n",
       "      <td>1990</td>\n",
       "      <td>Chambertin</td>\n",
       "    </tr>\n",
       "    <tr>\n",
       "      <th>2</th>\n",
       "      <td>493</td>\n",
       "      <td>None</td>\n",
       "      <td>1202.0</td>\n",
       "      <td>187 Oct 12, 2018 (NY)</td>\n",
       "      <td>1.0</td>\n",
       "      <td>1 bottle</td>\n",
       "      <td>lbsl</td>\n",
       "      <td>Clos St. Jacques</td>\n",
       "      <td>97</td>\n",
       "      <td>A. Rousseau</td>\n",
       "      <td>Clos St. Jacques, A. Rousseau</td>\n",
       "      <td>bottle</td>\n",
       "      <td>4340.0</td>\n",
       "      <td>1985</td>\n",
       "      <td>Gevrey Chambertin</td>\n",
       "    </tr>\n",
       "    <tr>\n",
       "      <th>3</th>\n",
       "      <td>494</td>\n",
       "      <td>None</td>\n",
       "      <td>1202.0</td>\n",
       "      <td>187 Oct 12, 2018 (NY)</td>\n",
       "      <td>2.0</td>\n",
       "      <td>2 bottles</td>\n",
       "      <td>2lbsl</td>\n",
       "      <td>Clos St. Jacques</td>\n",
       "      <td>98</td>\n",
       "      <td>A. Rousseau</td>\n",
       "      <td>Clos St. Jacques, A. Rousseau</td>\n",
       "      <td>bottle</td>\n",
       "      <td>2232.0</td>\n",
       "      <td>1988</td>\n",
       "      <td>Gevrey Chambertin</td>\n",
       "    </tr>\n",
       "    <tr>\n",
       "      <th>4</th>\n",
       "      <td>551</td>\n",
       "      <td>None</td>\n",
       "      <td>1202.0</td>\n",
       "      <td>187 Oct 12, 2018 (NY)</td>\n",
       "      <td>3.0</td>\n",
       "      <td>3 bottles</td>\n",
       "      <td></td>\n",
       "      <td>None</td>\n",
       "      <td>106</td>\n",
       "      <td>Domaine de la Romanee Conti</td>\n",
       "      <td>Domaine de la Romanee Conti</td>\n",
       "      <td>bottle</td>\n",
       "      <td>6200.0</td>\n",
       "      <td>2002</td>\n",
       "      <td>Echezeaux</td>\n",
       "    </tr>\n",
       "  </tbody>\n",
       "</table>\n",
       "</div>"
      ],
      "text/plain": [
       "   index Auction.Date  Auction.ID           Auction.Name  BottleQuantity  \\\n",
       "0    356         None      1202.0  187 Oct 12, 2018 (NY)            12.0   \n",
       "1    486         None      1202.0  187 Oct 12, 2018 (NY)             1.0   \n",
       "2    493         None      1202.0  187 Oct 12, 2018 (NY)             1.0   \n",
       "3    494         None      1202.0  187 Oct 12, 2018 (NY)             2.0   \n",
       "4    551         None      1202.0  187 Oct 12, 2018 (NY)             3.0   \n",
       "\n",
       "  BottleSummary    Conditions       Designation LotNo  \\\n",
       "0    12 bottles  2vlbsl 3lwrl              None    77   \n",
       "1      1 bottle            nl              None    95   \n",
       "2      1 bottle          lbsl  Clos St. Jacques    97   \n",
       "3     2 bottles         2lbsl  Clos St. Jacques    98   \n",
       "4     3 bottles                            None   106   \n",
       "\n",
       "                      Producer         ProducerAndDesignation    Size  \\\n",
       "0           chateau de la tour             chateau de la tour  bottle   \n",
       "1                  A. Rousseau                    A. Rousseau  bottle   \n",
       "2                  A. Rousseau  Clos St. Jacques, A. Rousseau  bottle   \n",
       "3                  A. Rousseau  Clos St. Jacques, A. Rousseau  bottle   \n",
       "4  Domaine de la Romanee Conti    Domaine de la Romanee Conti  bottle   \n",
       "\n",
       "   SoldAmount Vintage                 Wine  \n",
       "0      2232.0    2001  Les Forts de Latour  \n",
       "1      4960.0    1990           Chambertin  \n",
       "2      4340.0    1985    Gevrey Chambertin  \n",
       "3      2232.0    1988    Gevrey Chambertin  \n",
       "4      6200.0    2002            Echezeaux  "
      ]
     },
     "execution_count": 7,
     "metadata": {},
     "output_type": "execute_result"
    }
   ],
   "source": [
    "# need to group by lot number, append most rows, but the price seems to be static so don't sum that\n",
    "# for now,  filtering away mixed lots by saying anything that has shared lot numbers shoudl be removed\n",
    "\n",
    "df = raw.drop_duplicates(subset=['Auction.ID', 'LotNo'], keep=False)\n",
    "df = df.reset_index()\n",
    "print( df.shape )\n",
    "df.head()"
   ]
  },
  {
   "cell_type": "markdown",
   "metadata": {},
   "source": [
    "# Dataframe Enrichments"
   ]
  },
  {
   "cell_type": "code",
   "execution_count": 8,
   "metadata": {
    "collapsed": false
   },
   "outputs": [
    {
     "data": {
      "text/plain": [
       "(10467, 18)"
      ]
     },
     "execution_count": 8,
     "metadata": {},
     "output_type": "execute_result"
    }
   ],
   "source": [
    "# convert to dollars\n",
    "HKDUSD = 0.1277\n",
    "def toUSD(row):\n",
    "    if 'HK' in row['Auction.Name']:\n",
    "       return row['SoldAmount'] * HKDUSD\n",
    "    else:\n",
    "       return row['SoldAmount'] \n",
    "\n",
    "df['SoldAmountUSD'] = df.apply( toUSD, axis = 1 )\n",
    "    \n",
    "# compute unit price by bottle\n",
    "df['UnitPriceUSD'] = df[ 'SoldAmountUSD' ] / df[ 'BottleQuantity' ]\n",
    "\n",
    "#Extract Date from Auction.Name column\n",
    "date_col = 'Date'\n",
    "date_search_regex = '[a-zA-Z]{3} .* \\\\d{4}'\n",
    "df[date_col] = df['Auction.Name'].apply(lambda s: re.search(date_search_regex, s).group())\n",
    "df[date_col] = pd.to_datetime(df[date_col])\n",
    "\n",
    "# bottle sizes only for now\n",
    "bottle_df = df[(df[\"BottleSummary\"].str.contains(\"bottle\") == True) & (df[\"BottleSummary\"].str.contains(\"half\") == False)]\n",
    "bottle_df.shape"
   ]
  },
  {
   "cell_type": "code",
   "execution_count": 9,
   "metadata": {
    "collapsed": false
   },
   "outputs": [],
   "source": [
    "#some like Burgundys or champagnes need ProducerAndDesignation WITH Wine\n",
    "#for Bordeauxs they are often all the same\n",
    "bottle_grouped = bottle_df.groupby(['Vintage', \"Wine\", \"ProducerAndDesignation\"]).UnitPriceUSD.agg( ['min', 'mean', 'max', \"count\"] )\n",
    "bottle_grouped = bottle_grouped.reset_index()\n",
    "bottle_grouped = bottle_grouped.sort_values('count', ascending = False)"
   ]
  },
  {
   "cell_type": "markdown",
   "metadata": {},
   "source": [
    "### Looking at an example: Mouton Rothschild 1982"
   ]
  },
  {
   "cell_type": "code",
   "execution_count": 10,
   "metadata": {
    "collapsed": false
   },
   "outputs": [
    {
     "data": {
      "text/html": [
       "<div>\n",
       "<table border=\"1\" class=\"dataframe\">\n",
       "  <thead>\n",
       "    <tr style=\"text-align: right;\">\n",
       "      <th></th>\n",
       "      <th>Vintage</th>\n",
       "      <th>Wine</th>\n",
       "      <th>ProducerAndDesignation</th>\n",
       "      <th>min</th>\n",
       "      <th>mean</th>\n",
       "      <th>max</th>\n",
       "      <th>count</th>\n",
       "    </tr>\n",
       "  </thead>\n",
       "  <tbody>\n",
       "    <tr>\n",
       "      <th>2218</th>\n",
       "      <td>2000</td>\n",
       "      <td>Chateau Mouton Rothschild</td>\n",
       "      <td>Chateau Mouton Rothschild</td>\n",
       "      <td>1766.346400</td>\n",
       "      <td>1999.909783</td>\n",
       "      <td>2365.642500</td>\n",
       "      <td>25</td>\n",
       "    </tr>\n",
       "    <tr>\n",
       "      <th>795</th>\n",
       "      <td>1982</td>\n",
       "      <td>Chateau Mouton Rothschild</td>\n",
       "      <td>Chateau Mouton Rothschild</td>\n",
       "      <td>992.000000</td>\n",
       "      <td>1215.591410</td>\n",
       "      <td>1482.000000</td>\n",
       "      <td>23</td>\n",
       "    </tr>\n",
       "    <tr>\n",
       "      <th>979</th>\n",
       "      <td>1986</td>\n",
       "      <td>Chateau Mouton Rothschild</td>\n",
       "      <td>Chateau Mouton Rothschild</td>\n",
       "      <td>806.000000</td>\n",
       "      <td>905.878661</td>\n",
       "      <td>1033.333333</td>\n",
       "      <td>23</td>\n",
       "    </tr>\n",
       "    <tr>\n",
       "      <th>1547</th>\n",
       "      <td>1995</td>\n",
       "      <td>Chateau Mouton Rothschild</td>\n",
       "      <td>Chateau Mouton Rothschild</td>\n",
       "      <td>499.413417</td>\n",
       "      <td>535.796175</td>\n",
       "      <td>568.333333</td>\n",
       "      <td>10</td>\n",
       "    </tr>\n",
       "    <tr>\n",
       "      <th>1918</th>\n",
       "      <td>1998</td>\n",
       "      <td>Chateau Mouton Rothschild</td>\n",
       "      <td>Chateau Mouton Rothschild</td>\n",
       "      <td>473.128500</td>\n",
       "      <td>558.360074</td>\n",
       "      <td>633.392000</td>\n",
       "      <td>9</td>\n",
       "    </tr>\n",
       "  </tbody>\n",
       "</table>\n",
       "</div>"
      ],
      "text/plain": [
       "     Vintage                       Wine     ProducerAndDesignation  \\\n",
       "2218    2000  Chateau Mouton Rothschild  Chateau Mouton Rothschild   \n",
       "795     1982  Chateau Mouton Rothschild  Chateau Mouton Rothschild   \n",
       "979     1986  Chateau Mouton Rothschild  Chateau Mouton Rothschild   \n",
       "1547    1995  Chateau Mouton Rothschild  Chateau Mouton Rothschild   \n",
       "1918    1998  Chateau Mouton Rothschild  Chateau Mouton Rothschild   \n",
       "\n",
       "              min         mean          max  count  \n",
       "2218  1766.346400  1999.909783  2365.642500     25  \n",
       "795    992.000000  1215.591410  1482.000000     23  \n",
       "979    806.000000   905.878661  1033.333333     23  \n",
       "1547   499.413417   535.796175   568.333333     10  \n",
       "1918   473.128500   558.360074   633.392000      9  "
      ]
     },
     "execution_count": 10,
     "metadata": {},
     "output_type": "execute_result"
    }
   ],
   "source": [
    "mouton_grouped = bottle_grouped[ bottle_grouped[\"ProducerAndDesignation\"].str.contains(\"Mouton\") ]\n",
    "mouton_all = bottle_df[ bottle_df[\"ProducerAndDesignation\"].str.contains( \"Mouton\") ]\n",
    "mouton_grouped.head()"
   ]
  },
  {
   "cell_type": "code",
   "execution_count": 11,
   "metadata": {
    "collapsed": false
   },
   "outputs": [
    {
     "data": {
      "text/html": [
       "<div>\n",
       "<table border=\"1\" class=\"dataframe\">\n",
       "  <thead>\n",
       "    <tr style=\"text-align: right;\">\n",
       "      <th></th>\n",
       "      <th>index</th>\n",
       "      <th>Auction.Date</th>\n",
       "      <th>Auction.ID</th>\n",
       "      <th>Auction.Name</th>\n",
       "      <th>BottleQuantity</th>\n",
       "      <th>BottleSummary</th>\n",
       "      <th>Conditions</th>\n",
       "      <th>Designation</th>\n",
       "      <th>LotNo</th>\n",
       "      <th>Producer</th>\n",
       "      <th>ProducerAndDesignation</th>\n",
       "      <th>Size</th>\n",
       "      <th>SoldAmount</th>\n",
       "      <th>Vintage</th>\n",
       "      <th>Wine</th>\n",
       "      <th>SoldAmountUSD</th>\n",
       "      <th>UnitPriceUSD</th>\n",
       "      <th>Date</th>\n",
       "    </tr>\n",
       "  </thead>\n",
       "  <tbody>\n",
       "    <tr>\n",
       "      <th>1853</th>\n",
       "      <td>740</td>\n",
       "      <td>None</td>\n",
       "      <td>1192.0</td>\n",
       "      <td>185 Jun 20, 2018 (NY)</td>\n",
       "      <td>3.0</td>\n",
       "      <td>3 bottles</td>\n",
       "      <td>1hs 1sdc 1ts 1vhs 3lbsl</td>\n",
       "      <td>None</td>\n",
       "      <td>491</td>\n",
       "      <td>Chateau Mouton Rothschild</td>\n",
       "      <td>Chateau Mouton Rothschild</td>\n",
       "      <td>bottle</td>\n",
       "      <td>2976.0</td>\n",
       "      <td>1982</td>\n",
       "      <td>Chateau Mouton Rothschild</td>\n",
       "      <td>2976.000</td>\n",
       "      <td>992.000000</td>\n",
       "      <td>2018-06-20</td>\n",
       "    </tr>\n",
       "    <tr>\n",
       "      <th>2412</th>\n",
       "      <td>1606</td>\n",
       "      <td>None</td>\n",
       "      <td>1192.0</td>\n",
       "      <td>185 Jun 20, 2018 (NY)</td>\n",
       "      <td>12.0</td>\n",
       "      <td>12 bottles</td>\n",
       "      <td>10lbsl 1cuc 1x12 bottle owc 2nc 2spc 2vlbsl 3l...</td>\n",
       "      <td>None</td>\n",
       "      <td>1308</td>\n",
       "      <td>Chateau Mouton Rothschild</td>\n",
       "      <td>Chateau Mouton Rothschild</td>\n",
       "      <td>bottle</td>\n",
       "      <td>12400.0</td>\n",
       "      <td>1982</td>\n",
       "      <td>Chateau Mouton Rothschild</td>\n",
       "      <td>12400.000</td>\n",
       "      <td>1033.333333</td>\n",
       "      <td>2018-06-20</td>\n",
       "    </tr>\n",
       "    <tr>\n",
       "      <th>4400</th>\n",
       "      <td>707</td>\n",
       "      <td>None</td>\n",
       "      <td>1187.0</td>\n",
       "      <td>183A Apr 21, 2018 (HK)</td>\n",
       "      <td>12.0</td>\n",
       "      <td>12 bottles</td>\n",
       "      <td>12vlscl 1lstl 1vhs 2nc 2ts 8bn 8lwrl</td>\n",
       "      <td>None</td>\n",
       "      <td>593</td>\n",
       "      <td>Chateau Mouton Rothschild</td>\n",
       "      <td>Chateau Mouton Rothschild</td>\n",
       "      <td>bottle</td>\n",
       "      <td>119040.0</td>\n",
       "      <td>1982</td>\n",
       "      <td>Chateau Mouton Rothschild</td>\n",
       "      <td>15201.408</td>\n",
       "      <td>1266.784000</td>\n",
       "      <td>2018-04-21</td>\n",
       "    </tr>\n",
       "    <tr>\n",
       "      <th>4446</th>\n",
       "      <td>760</td>\n",
       "      <td>None</td>\n",
       "      <td>1187.0</td>\n",
       "      <td>183A Apr 21, 2018 (HK)</td>\n",
       "      <td>2.0</td>\n",
       "      <td>2 bottles</td>\n",
       "      <td>1bn 1lbsl 1lgsl 1ts</td>\n",
       "      <td>None</td>\n",
       "      <td>644</td>\n",
       "      <td>Chateau Mouton Rothschild</td>\n",
       "      <td>Chateau Mouton Rothschild</td>\n",
       "      <td>bottle</td>\n",
       "      <td>19840.0</td>\n",
       "      <td>1982</td>\n",
       "      <td>Chateau Mouton Rothschild</td>\n",
       "      <td>2533.568</td>\n",
       "      <td>1266.784000</td>\n",
       "      <td>2018-04-21</td>\n",
       "    </tr>\n",
       "    <tr>\n",
       "      <th>4620</th>\n",
       "      <td>1080</td>\n",
       "      <td>None</td>\n",
       "      <td>1187.0</td>\n",
       "      <td>183A Apr 21, 2018 (HK)</td>\n",
       "      <td>3.0</td>\n",
       "      <td>3 bottles</td>\n",
       "      <td>1bn 1bsl 1lscl 1scc 1scl 1stl 1ts 1vhs 3nc</td>\n",
       "      <td>None</td>\n",
       "      <td>874</td>\n",
       "      <td>Chateau Mouton Rothschild</td>\n",
       "      <td>Chateau Mouton Rothschild</td>\n",
       "      <td>bottle</td>\n",
       "      <td>29760.0</td>\n",
       "      <td>1982</td>\n",
       "      <td>Chateau Mouton Rothschild</td>\n",
       "      <td>3800.352</td>\n",
       "      <td>1266.784000</td>\n",
       "      <td>2018-04-21</td>\n",
       "    </tr>\n",
       "  </tbody>\n",
       "</table>\n",
       "</div>"
      ],
      "text/plain": [
       "      index Auction.Date  Auction.ID            Auction.Name  BottleQuantity  \\\n",
       "1853    740         None      1192.0   185 Jun 20, 2018 (NY)             3.0   \n",
       "2412   1606         None      1192.0   185 Jun 20, 2018 (NY)            12.0   \n",
       "4400    707         None      1187.0  183A Apr 21, 2018 (HK)            12.0   \n",
       "4446    760         None      1187.0  183A Apr 21, 2018 (HK)             2.0   \n",
       "4620   1080         None      1187.0  183A Apr 21, 2018 (HK)             3.0   \n",
       "\n",
       "     BottleSummary                                         Conditions  \\\n",
       "1853     3 bottles                            1hs 1sdc 1ts 1vhs 3lbsl   \n",
       "2412    12 bottles  10lbsl 1cuc 1x12 bottle owc 2nc 2spc 2vlbsl 3l...   \n",
       "4400    12 bottles               12vlscl 1lstl 1vhs 2nc 2ts 8bn 8lwrl   \n",
       "4446     2 bottles                                1bn 1lbsl 1lgsl 1ts   \n",
       "4620     3 bottles         1bn 1bsl 1lscl 1scc 1scl 1stl 1ts 1vhs 3nc   \n",
       "\n",
       "     Designation LotNo                   Producer     ProducerAndDesignation  \\\n",
       "1853        None   491  Chateau Mouton Rothschild  Chateau Mouton Rothschild   \n",
       "2412        None  1308  Chateau Mouton Rothschild  Chateau Mouton Rothschild   \n",
       "4400        None   593  Chateau Mouton Rothschild  Chateau Mouton Rothschild   \n",
       "4446        None   644  Chateau Mouton Rothschild  Chateau Mouton Rothschild   \n",
       "4620        None   874  Chateau Mouton Rothschild  Chateau Mouton Rothschild   \n",
       "\n",
       "        Size  SoldAmount Vintage                       Wine  SoldAmountUSD  \\\n",
       "1853  bottle      2976.0    1982  Chateau Mouton Rothschild       2976.000   \n",
       "2412  bottle     12400.0    1982  Chateau Mouton Rothschild      12400.000   \n",
       "4400  bottle    119040.0    1982  Chateau Mouton Rothschild      15201.408   \n",
       "4446  bottle     19840.0    1982  Chateau Mouton Rothschild       2533.568   \n",
       "4620  bottle     29760.0    1982  Chateau Mouton Rothschild       3800.352   \n",
       "\n",
       "      UnitPriceUSD       Date  \n",
       "1853    992.000000 2018-06-20  \n",
       "2412   1033.333333 2018-06-20  \n",
       "4400   1266.784000 2018-04-21  \n",
       "4446   1266.784000 2018-04-21  \n",
       "4620   1266.784000 2018-04-21  "
      ]
     },
     "execution_count": 11,
     "metadata": {},
     "output_type": "execute_result"
    }
   ],
   "source": [
    "mouton_1982 = mouton_all[ mouton_all['Vintage'] == \"1982\"]\n",
    "mouton_1982.head()"
   ]
  },
  {
   "cell_type": "code",
   "execution_count": 12,
   "metadata": {
    "collapsed": false
   },
   "outputs": [
    {
     "data": {
      "text/html": [
       "<div>\n",
       "<table border=\"1\" class=\"dataframe\">\n",
       "  <thead>\n",
       "    <tr style=\"text-align: right;\">\n",
       "      <th></th>\n",
       "      <th>index</th>\n",
       "      <th>Auction.Date</th>\n",
       "      <th>Auction.ID</th>\n",
       "      <th>Auction.Name</th>\n",
       "      <th>BottleQuantity</th>\n",
       "      <th>BottleSummary</th>\n",
       "      <th>Conditions</th>\n",
       "      <th>Designation</th>\n",
       "      <th>LotNo</th>\n",
       "      <th>Producer</th>\n",
       "      <th>ProducerAndDesignation</th>\n",
       "      <th>Size</th>\n",
       "      <th>SoldAmount</th>\n",
       "      <th>Vintage</th>\n",
       "      <th>Wine</th>\n",
       "      <th>SoldAmountUSD</th>\n",
       "      <th>UnitPriceUSD</th>\n",
       "      <th>Date</th>\n",
       "    </tr>\n",
       "  </thead>\n",
       "  <tbody>\n",
       "    <tr>\n",
       "      <th>1853</th>\n",
       "      <td>740</td>\n",
       "      <td>None</td>\n",
       "      <td>1192.0</td>\n",
       "      <td>185 Jun 20, 2018 (NY)</td>\n",
       "      <td>3.0</td>\n",
       "      <td>3 bottles</td>\n",
       "      <td>1hs 1sdc 1ts 1vhs 3lbsl</td>\n",
       "      <td>None</td>\n",
       "      <td>491</td>\n",
       "      <td>Chateau Mouton Rothschild</td>\n",
       "      <td>Chateau Mouton Rothschild</td>\n",
       "      <td>bottle</td>\n",
       "      <td>2976.0</td>\n",
       "      <td>1982</td>\n",
       "      <td>Chateau Mouton Rothschild</td>\n",
       "      <td>2976.000</td>\n",
       "      <td>992.000000</td>\n",
       "      <td>2018-06-20</td>\n",
       "    </tr>\n",
       "    <tr>\n",
       "      <th>2412</th>\n",
       "      <td>1606</td>\n",
       "      <td>None</td>\n",
       "      <td>1192.0</td>\n",
       "      <td>185 Jun 20, 2018 (NY)</td>\n",
       "      <td>12.0</td>\n",
       "      <td>12 bottles</td>\n",
       "      <td>10lbsl 1cuc 1x12 bottle owc 2nc 2spc 2vlbsl 3l...</td>\n",
       "      <td>None</td>\n",
       "      <td>1308</td>\n",
       "      <td>Chateau Mouton Rothschild</td>\n",
       "      <td>Chateau Mouton Rothschild</td>\n",
       "      <td>bottle</td>\n",
       "      <td>12400.0</td>\n",
       "      <td>1982</td>\n",
       "      <td>Chateau Mouton Rothschild</td>\n",
       "      <td>12400.000</td>\n",
       "      <td>1033.333333</td>\n",
       "      <td>2018-06-20</td>\n",
       "    </tr>\n",
       "    <tr>\n",
       "      <th>4400</th>\n",
       "      <td>707</td>\n",
       "      <td>None</td>\n",
       "      <td>1187.0</td>\n",
       "      <td>183A Apr 21, 2018 (HK)</td>\n",
       "      <td>12.0</td>\n",
       "      <td>12 bottles</td>\n",
       "      <td>12vlscl 1lstl 1vhs 2nc 2ts 8bn 8lwrl</td>\n",
       "      <td>None</td>\n",
       "      <td>593</td>\n",
       "      <td>Chateau Mouton Rothschild</td>\n",
       "      <td>Chateau Mouton Rothschild</td>\n",
       "      <td>bottle</td>\n",
       "      <td>119040.0</td>\n",
       "      <td>1982</td>\n",
       "      <td>Chateau Mouton Rothschild</td>\n",
       "      <td>15201.408</td>\n",
       "      <td>1266.784000</td>\n",
       "      <td>2018-04-21</td>\n",
       "    </tr>\n",
       "    <tr>\n",
       "      <th>4446</th>\n",
       "      <td>760</td>\n",
       "      <td>None</td>\n",
       "      <td>1187.0</td>\n",
       "      <td>183A Apr 21, 2018 (HK)</td>\n",
       "      <td>2.0</td>\n",
       "      <td>2 bottles</td>\n",
       "      <td>1bn 1lbsl 1lgsl 1ts</td>\n",
       "      <td>None</td>\n",
       "      <td>644</td>\n",
       "      <td>Chateau Mouton Rothschild</td>\n",
       "      <td>Chateau Mouton Rothschild</td>\n",
       "      <td>bottle</td>\n",
       "      <td>19840.0</td>\n",
       "      <td>1982</td>\n",
       "      <td>Chateau Mouton Rothschild</td>\n",
       "      <td>2533.568</td>\n",
       "      <td>1266.784000</td>\n",
       "      <td>2018-04-21</td>\n",
       "    </tr>\n",
       "    <tr>\n",
       "      <th>4620</th>\n",
       "      <td>1080</td>\n",
       "      <td>None</td>\n",
       "      <td>1187.0</td>\n",
       "      <td>183A Apr 21, 2018 (HK)</td>\n",
       "      <td>3.0</td>\n",
       "      <td>3 bottles</td>\n",
       "      <td>1bn 1bsl 1lscl 1scc 1scl 1stl 1ts 1vhs 3nc</td>\n",
       "      <td>None</td>\n",
       "      <td>874</td>\n",
       "      <td>Chateau Mouton Rothschild</td>\n",
       "      <td>Chateau Mouton Rothschild</td>\n",
       "      <td>bottle</td>\n",
       "      <td>29760.0</td>\n",
       "      <td>1982</td>\n",
       "      <td>Chateau Mouton Rothschild</td>\n",
       "      <td>3800.352</td>\n",
       "      <td>1266.784000</td>\n",
       "      <td>2018-04-21</td>\n",
       "    </tr>\n",
       "  </tbody>\n",
       "</table>\n",
       "</div>"
      ],
      "text/plain": [
       "      index Auction.Date  Auction.ID            Auction.Name  BottleQuantity  \\\n",
       "1853    740         None      1192.0   185 Jun 20, 2018 (NY)             3.0   \n",
       "2412   1606         None      1192.0   185 Jun 20, 2018 (NY)            12.0   \n",
       "4400    707         None      1187.0  183A Apr 21, 2018 (HK)            12.0   \n",
       "4446    760         None      1187.0  183A Apr 21, 2018 (HK)             2.0   \n",
       "4620   1080         None      1187.0  183A Apr 21, 2018 (HK)             3.0   \n",
       "\n",
       "     BottleSummary                                         Conditions  \\\n",
       "1853     3 bottles                            1hs 1sdc 1ts 1vhs 3lbsl   \n",
       "2412    12 bottles  10lbsl 1cuc 1x12 bottle owc 2nc 2spc 2vlbsl 3l...   \n",
       "4400    12 bottles               12vlscl 1lstl 1vhs 2nc 2ts 8bn 8lwrl   \n",
       "4446     2 bottles                                1bn 1lbsl 1lgsl 1ts   \n",
       "4620     3 bottles         1bn 1bsl 1lscl 1scc 1scl 1stl 1ts 1vhs 3nc   \n",
       "\n",
       "     Designation LotNo                   Producer     ProducerAndDesignation  \\\n",
       "1853        None   491  Chateau Mouton Rothschild  Chateau Mouton Rothschild   \n",
       "2412        None  1308  Chateau Mouton Rothschild  Chateau Mouton Rothschild   \n",
       "4400        None   593  Chateau Mouton Rothschild  Chateau Mouton Rothschild   \n",
       "4446        None   644  Chateau Mouton Rothschild  Chateau Mouton Rothschild   \n",
       "4620        None   874  Chateau Mouton Rothschild  Chateau Mouton Rothschild   \n",
       "\n",
       "        Size  SoldAmount Vintage                       Wine  SoldAmountUSD  \\\n",
       "1853  bottle      2976.0    1982  Chateau Mouton Rothschild       2976.000   \n",
       "2412  bottle     12400.0    1982  Chateau Mouton Rothschild      12400.000   \n",
       "4400  bottle    119040.0    1982  Chateau Mouton Rothschild      15201.408   \n",
       "4446  bottle     19840.0    1982  Chateau Mouton Rothschild       2533.568   \n",
       "4620  bottle     29760.0    1982  Chateau Mouton Rothschild       3800.352   \n",
       "\n",
       "      UnitPriceUSD       Date  \n",
       "1853    992.000000 2018-06-20  \n",
       "2412   1033.333333 2018-06-20  \n",
       "4400   1266.784000 2018-04-21  \n",
       "4446   1266.784000 2018-04-21  \n",
       "4620   1266.784000 2018-04-21  "
      ]
     },
     "execution_count": 12,
     "metadata": {},
     "output_type": "execute_result"
    }
   ],
   "source": [
    "mouton_1982.head()\n",
    "# if looking at mouton 1945, the cheap one \"believed to be\" that vintage, which may explain low price"
   ]
  },
  {
   "cell_type": "code",
   "execution_count": 13,
   "metadata": {
    "collapsed": false
   },
   "outputs": [
    {
     "data": {
      "image/png": "[encoded data removed]",
      "text/plain": [
       "<matplotlib.figure.Figure at 0x25838be2630>"
      ]
     },
     "metadata": {},
     "output_type": "display_data"
    }
   ],
   "source": [
    "plt.hist( mouton_1982[ 'UnitPriceUSD'], 6 )\n",
    "plt.show()"
   ]
  },
  {
   "cell_type": "markdown",
   "metadata": {},
   "source": [
    "### Let's Try Your Own!"
   ]
  },
  {
   "cell_type": "code",
   "execution_count": 14,
   "metadata": {
    "collapsed": false
   },
   "outputs": [
    {
     "data": {
      "image/png": "[encoded data removed]",
      "text/plain": [
       "<matplotlib.figure.Figure at 0x25839e43390>"
      ]
     },
     "metadata": {},
     "output_type": "display_data"
    }
   ],
   "source": [
    "Vintage = \"1999\"\n",
    "Producer = \"Domaine de la Romanee Conti\"\n",
    "Wine = \"La Tache\"\n",
    "producer_only = bottle_df[ bottle_df[\"ProducerAndDesignation\"].str.contains(Producer) ]\n",
    "producer_wine = producer_only[ producer_only[\"Wine\"].str.contains(Wine) ]\n",
    "\n",
    "producer_wine_vintage = producer_wine[ producer_wine['Vintage'] == Vintage ]\n",
    "\n",
    "plt.hist( producer_wine_vintage['UnitPriceUSD'], 6 )\n",
    "plt.show()"
   ]
  },
  {
   "cell_type": "code",
   "execution_count": 15,
   "metadata": {
    "collapsed": false
   },
   "outputs": [
    {
     "data": {
      "text/html": [
       "<div>\n",
       "<table border=\"1\" class=\"dataframe\">\n",
       "  <thead>\n",
       "    <tr style=\"text-align: right;\">\n",
       "      <th></th>\n",
       "      <th>index</th>\n",
       "      <th>Auction.Date</th>\n",
       "      <th>Auction.ID</th>\n",
       "      <th>Auction.Name</th>\n",
       "      <th>BottleQuantity</th>\n",
       "      <th>BottleSummary</th>\n",
       "      <th>Conditions</th>\n",
       "      <th>Designation</th>\n",
       "      <th>LotNo</th>\n",
       "      <th>Producer</th>\n",
       "      <th>ProducerAndDesignation</th>\n",
       "      <th>Size</th>\n",
       "      <th>SoldAmount</th>\n",
       "      <th>Vintage</th>\n",
       "      <th>Wine</th>\n",
       "      <th>SoldAmountUSD</th>\n",
       "      <th>UnitPriceUSD</th>\n",
       "      <th>Date</th>\n",
       "    </tr>\n",
       "  </thead>\n",
       "  <tbody>\n",
       "    <tr>\n",
       "      <th>580</th>\n",
       "      <td>447</td>\n",
       "      <td>None</td>\n",
       "      <td>1197.0</td>\n",
       "      <td>185A Sep 22, 2018 (HK)</td>\n",
       "      <td>6.0</td>\n",
       "      <td>6 bottles</td>\n",
       "      <td>1x6 bottle banded owc</td>\n",
       "      <td>None</td>\n",
       "      <td>317</td>\n",
       "      <td>Domaine de la Romanee Conti</td>\n",
       "      <td>Domaine de la Romanee Conti</td>\n",
       "      <td>bottle</td>\n",
       "      <td>297600.0</td>\n",
       "      <td>1999</td>\n",
       "      <td>La Tache</td>\n",
       "      <td>38003.520</td>\n",
       "      <td>6333.920000</td>\n",
       "      <td>2018-09-22</td>\n",
       "    </tr>\n",
       "    <tr>\n",
       "      <th>2219</th>\n",
       "      <td>1371</td>\n",
       "      <td>None</td>\n",
       "      <td>1192.0</td>\n",
       "      <td>185 Jun 20, 2018 (NY)</td>\n",
       "      <td>1.0</td>\n",
       "      <td>1 bottle</td>\n",
       "      <td></td>\n",
       "      <td>None</td>\n",
       "      <td>1069</td>\n",
       "      <td>Domaine de la Romanee Conti</td>\n",
       "      <td>Domaine de la Romanee Conti</td>\n",
       "      <td>bottle</td>\n",
       "      <td>5952.0</td>\n",
       "      <td>1999</td>\n",
       "      <td>La Tache</td>\n",
       "      <td>5952.000</td>\n",
       "      <td>5952.000000</td>\n",
       "      <td>2018-06-20</td>\n",
       "    </tr>\n",
       "    <tr>\n",
       "      <th>2462</th>\n",
       "      <td>1682</td>\n",
       "      <td>None</td>\n",
       "      <td>1192.0</td>\n",
       "      <td>185 Jun 20, 2018 (NY)</td>\n",
       "      <td>12.0</td>\n",
       "      <td>12 bottles</td>\n",
       "      <td>1x12 bottle owc 3 bottles different importer</td>\n",
       "      <td>None</td>\n",
       "      <td>1372</td>\n",
       "      <td>Domaine de la Romanee Conti</td>\n",
       "      <td>Domaine de la Romanee Conti</td>\n",
       "      <td>bottle</td>\n",
       "      <td>74400.0</td>\n",
       "      <td>1999</td>\n",
       "      <td>La Tache</td>\n",
       "      <td>74400.000</td>\n",
       "      <td>6200.000000</td>\n",
       "      <td>2018-06-20</td>\n",
       "    </tr>\n",
       "    <tr>\n",
       "      <th>2727</th>\n",
       "      <td>375</td>\n",
       "      <td>None</td>\n",
       "      <td>1190.0</td>\n",
       "      <td>184A Jun 9, 2018 (HK)</td>\n",
       "      <td>3.0</td>\n",
       "      <td>3 bottles</td>\n",
       "      <td></td>\n",
       "      <td>None</td>\n",
       "      <td>295</td>\n",
       "      <td>Domaine de la Romanee Conti</td>\n",
       "      <td>Domaine de la Romanee Conti</td>\n",
       "      <td>bottle</td>\n",
       "      <td>138880.0</td>\n",
       "      <td>1999</td>\n",
       "      <td>La Tache</td>\n",
       "      <td>17734.976</td>\n",
       "      <td>5911.658667</td>\n",
       "      <td>2018-06-09</td>\n",
       "    </tr>\n",
       "    <tr>\n",
       "      <th>2799</th>\n",
       "      <td>482</td>\n",
       "      <td>None</td>\n",
       "      <td>1190.0</td>\n",
       "      <td>184A Jun 9, 2018 (HK)</td>\n",
       "      <td>3.0</td>\n",
       "      <td>3 bottles</td>\n",
       "      <td>1vlbsl</td>\n",
       "      <td>None</td>\n",
       "      <td>377</td>\n",
       "      <td>Domaine de la Romanee Conti</td>\n",
       "      <td>Domaine de la Romanee Conti</td>\n",
       "      <td>bottle</td>\n",
       "      <td>158720.0</td>\n",
       "      <td>1999</td>\n",
       "      <td>La Tache</td>\n",
       "      <td>20268.544</td>\n",
       "      <td>6756.181333</td>\n",
       "      <td>2018-06-09</td>\n",
       "    </tr>\n",
       "  </tbody>\n",
       "</table>\n",
       "</div>"
      ],
      "text/plain": [
       "      index Auction.Date  Auction.ID            Auction.Name  BottleQuantity  \\\n",
       "580     447         None      1197.0  185A Sep 22, 2018 (HK)             6.0   \n",
       "2219   1371         None      1192.0   185 Jun 20, 2018 (NY)             1.0   \n",
       "2462   1682         None      1192.0   185 Jun 20, 2018 (NY)            12.0   \n",
       "2727    375         None      1190.0   184A Jun 9, 2018 (HK)             3.0   \n",
       "2799    482         None      1190.0   184A Jun 9, 2018 (HK)             3.0   \n",
       "\n",
       "     BottleSummary                                    Conditions Designation  \\\n",
       "580      6 bottles                         1x6 bottle banded owc        None   \n",
       "2219      1 bottle                                                      None   \n",
       "2462    12 bottles  1x12 bottle owc 3 bottles different importer        None   \n",
       "2727     3 bottles                                                      None   \n",
       "2799     3 bottles                                        1vlbsl        None   \n",
       "\n",
       "     LotNo                     Producer       ProducerAndDesignation    Size  \\\n",
       "580    317  Domaine de la Romanee Conti  Domaine de la Romanee Conti  bottle   \n",
       "2219  1069  Domaine de la Romanee Conti  Domaine de la Romanee Conti  bottle   \n",
       "2462  1372  Domaine de la Romanee Conti  Domaine de la Romanee Conti  bottle   \n",
       "2727   295  Domaine de la Romanee Conti  Domaine de la Romanee Conti  bottle   \n",
       "2799   377  Domaine de la Romanee Conti  Domaine de la Romanee Conti  bottle   \n",
       "\n",
       "      SoldAmount Vintage      Wine  SoldAmountUSD  UnitPriceUSD       Date  \n",
       "580     297600.0    1999  La Tache      38003.520   6333.920000 2018-09-22  \n",
       "2219      5952.0    1999  La Tache       5952.000   5952.000000 2018-06-20  \n",
       "2462     74400.0    1999  La Tache      74400.000   6200.000000 2018-06-20  \n",
       "2727    138880.0    1999  La Tache      17734.976   5911.658667 2018-06-09  \n",
       "2799    158720.0    1999  La Tache      20268.544   6756.181333 2018-06-09  "
      ]
     },
     "execution_count": 15,
     "metadata": {},
     "output_type": "execute_result"
    }
   ],
   "source": [
    "producer_wine_vintage.head()"
   ]
  },
  {
   "cell_type": "markdown",
   "metadata": {},
   "source": [
    "## PnL Opportunity"
   ]
  },
  {
   "cell_type": "code",
   "execution_count": 16,
   "metadata": {
    "collapsed": false
   },
   "outputs": [
    {
     "name": "stdout",
     "output_type": "stream",
     "text": [
      "(72, 9)\n"
     ]
    },
    {
     "data": {
      "text/html": [
       "<div>\n",
       "<table border=\"1\" class=\"dataframe\">\n",
       "  <thead>\n",
       "    <tr style=\"text-align: right;\">\n",
       "      <th></th>\n",
       "      <th>index</th>\n",
       "      <th>Vintage</th>\n",
       "      <th>Wine</th>\n",
       "      <th>ProducerAndDesignation</th>\n",
       "      <th>min</th>\n",
       "      <th>mean</th>\n",
       "      <th>max</th>\n",
       "      <th>count</th>\n",
       "      <th>diff</th>\n",
       "    </tr>\n",
       "  </thead>\n",
       "  <tbody>\n",
       "    <tr>\n",
       "      <th>4</th>\n",
       "      <td>2120</td>\n",
       "      <td>1999</td>\n",
       "      <td>Romanee Conti</td>\n",
       "      <td>Domaine de la Romanee Conti</td>\n",
       "      <td>10028.706667</td>\n",
       "      <td>18481.627333</td>\n",
       "      <td>23224.373333</td>\n",
       "      <td>24</td>\n",
       "      <td>8550.792</td>\n",
       "    </tr>\n",
       "    <tr>\n",
       "      <th>2</th>\n",
       "      <td>2081</td>\n",
       "      <td>1999</td>\n",
       "      <td>La Tache</td>\n",
       "      <td>Domaine de la Romanee Conti</td>\n",
       "      <td>2841.666667</td>\n",
       "      <td>5658.579462</td>\n",
       "      <td>7389.573333</td>\n",
       "      <td>31</td>\n",
       "      <td>3069.992</td>\n",
       "    </tr>\n",
       "    <tr>\n",
       "      <th>41</th>\n",
       "      <td>2007</td>\n",
       "      <td>1999</td>\n",
       "      <td>Chambertin</td>\n",
       "      <td>A. Rousseau</td>\n",
       "      <td>899.000000</td>\n",
       "      <td>2914.087885</td>\n",
       "      <td>4960.000000</td>\n",
       "      <td>13</td>\n",
       "      <td>3069.000</td>\n",
       "    </tr>\n",
       "    <tr>\n",
       "      <th>42</th>\n",
       "      <td>1185</td>\n",
       "      <td>1990</td>\n",
       "      <td>Chambertin</td>\n",
       "      <td>A. Rousseau</td>\n",
       "      <td>3224.000000</td>\n",
       "      <td>4757.275897</td>\n",
       "      <td>7750.000000</td>\n",
       "      <td>13</td>\n",
       "      <td>2976.000</td>\n",
       "    </tr>\n",
       "    <tr>\n",
       "      <th>62</th>\n",
       "      <td>2620</td>\n",
       "      <td>2002</td>\n",
       "      <td>Romanee Conti</td>\n",
       "      <td>Domaine de la Romanee Conti</td>\n",
       "      <td>12616.760000</td>\n",
       "      <td>15934.525697</td>\n",
       "      <td>19001.760000</td>\n",
       "      <td>11</td>\n",
       "      <td>2584.648</td>\n",
       "    </tr>\n",
       "  </tbody>\n",
       "</table>\n",
       "</div>"
      ],
      "text/plain": [
       "    index Vintage           Wine       ProducerAndDesignation           min  \\\n",
       "4    2120    1999  Romanee Conti  Domaine de la Romanee Conti  10028.706667   \n",
       "2    2081    1999       La Tache  Domaine de la Romanee Conti   2841.666667   \n",
       "41   2007    1999     Chambertin                  A. Rousseau    899.000000   \n",
       "42   1185    1990     Chambertin                  A. Rousseau   3224.000000   \n",
       "62   2620    2002  Romanee Conti  Domaine de la Romanee Conti  12616.760000   \n",
       "\n",
       "            mean           max  count      diff  \n",
       "4   18481.627333  23224.373333     24  8550.792  \n",
       "2    5658.579462   7389.573333     31  3069.992  \n",
       "41   2914.087885   4960.000000     13  3069.000  \n",
       "42   4757.275897   7750.000000     13  2976.000  \n",
       "62  15934.525697  19001.760000     11  2584.648  "
      ]
     },
     "execution_count": 16,
     "metadata": {},
     "output_type": "execute_result"
    }
   ],
   "source": [
    "bottle_profit = bottle_grouped[ bottle_grouped[\"max\"] / 1.25 > bottle_grouped[\"min\"] ]\n",
    "bottle_profit = bottle_profit.reset_index()\n",
    "bottle_profit['diff'] = bottle_profit['max'] / 1.25 - bottle_profit['min']\n",
    "bottle_profit = bottle_profit[ bottle_profit[\"count\"] > 10 ]\n",
    "bottle_profit = bottle_profit.sort_values('diff', ascending = False)\n",
    "print(bottle_profit.shape)\n",
    "bottle_profit.head()"
   ]
  },
  {
   "cell_type": "markdown",
   "metadata": {},
   "source": [
    "# Price momentum over time\n",
    "For each unique bottle type - [Vintage, Wine, ProducerAndDesignation], use the historical price time series to compute the Annual Percent Change. Fit a linear regression through the price points as a function of ordinal date, then normalize to get the annual percent change. Interpret the Annual Percent Change as the price drift over time.\n",
    "Also plot the price time series"
   ]
  },
  {
   "cell_type": "code",
   "execution_count": 17,
   "metadata": {
    "collapsed": true
   },
   "outputs": [],
   "source": [
    "# Start w/ the bottle dataframe - all lots of just type. UnitPriceUSD represents the per bottle price \n",
    "# Treat each lot as an individual observation. Get the slope of Price(Time). Slope will represent the marginal change in price per marginal change in time\n",
    "bottle_grouped = bottle_df.groupby(unique_bottle_keys).UnitPriceUSD.agg( ['min', 'mean', 'max', \"count\"] )\n",
    "#bottle_df.head()\n",
    "bottle_grouped = bottle_grouped.sort_values('count', ascending = False)\n",
    "#bottle_grouped.head()"
   ]
  },
  {
   "cell_type": "code",
   "execution_count": 18,
   "metadata": {},
   "outputs": [
    {
     "data": {
      "text/html": [
       "<div>\n",
       "<table border=\"1\" class=\"dataframe\">\n",
       "  <thead>\n",
       "    <tr style=\"text-align: right;\">\n",
       "      <th></th>\n",
       "      <th>Vintage</th>\n",
       "      <th>Wine</th>\n",
       "      <th>ProducerAndDesignation</th>\n",
       "      <th>min</th>\n",
       "      <th>mean</th>\n",
       "      <th>max</th>\n",
       "      <th>count</th>\n",
       "      <th>Annual Percent Change</th>\n",
       "    </tr>\n",
       "  </thead>\n",
       "  <tbody>\n",
       "    <tr>\n",
       "      <th>1</th>\n",
       "      <td>2005</td>\n",
       "      <td>La Tache</td>\n",
       "      <td>Domaine de la Romanee Conti</td>\n",
       "      <td>3995.307333</td>\n",
       "      <td>5212.178071</td>\n",
       "      <td>6333.920000</td>\n",
       "      <td>33</td>\n",
       "      <td>0.304914</td>\n",
       "    </tr>\n",
       "    <tr>\n",
       "      <th>2</th>\n",
       "      <td>1999</td>\n",
       "      <td>La Tache</td>\n",
       "      <td>Domaine de la Romanee Conti</td>\n",
       "      <td>2841.666667</td>\n",
       "      <td>5658.579462</td>\n",
       "      <td>7389.573333</td>\n",
       "      <td>31</td>\n",
       "      <td>0.264146</td>\n",
       "    </tr>\n",
       "    <tr>\n",
       "      <th>3</th>\n",
       "      <td>2000</td>\n",
       "      <td>Chateau Mouton Rothschild</td>\n",
       "      <td>Chateau Mouton Rothschild</td>\n",
       "      <td>1766.346400</td>\n",
       "      <td>1999.909783</td>\n",
       "      <td>2365.642500</td>\n",
       "      <td>25</td>\n",
       "      <td>0.144828</td>\n",
       "    </tr>\n",
       "    <tr>\n",
       "      <th>0</th>\n",
       "      <td>2002</td>\n",
       "      <td>Dom Perignon Vintage Champagne</td>\n",
       "      <td>Dom Perignon</td>\n",
       "      <td>89.730533</td>\n",
       "      <td>180.901210</td>\n",
       "      <td>227.333333</td>\n",
       "      <td>42</td>\n",
       "      <td>0.023349</td>\n",
       "    </tr>\n",
       "  </tbody>\n",
       "</table>\n",
       "</div>"
      ],
      "text/plain": [
       "  Vintage                            Wine       ProducerAndDesignation  \\\n",
       "1    2005                        La Tache  Domaine de la Romanee Conti   \n",
       "2    1999                        La Tache  Domaine de la Romanee Conti   \n",
       "3    2000       Chateau Mouton Rothschild    Chateau Mouton Rothschild   \n",
       "0    2002  Dom Perignon Vintage Champagne                 Dom Perignon   \n",
       "\n",
       "           min         mean          max  count  Annual Percent Change  \n",
       "1  3995.307333  5212.178071  6333.920000     33               0.304914  \n",
       "2  2841.666667  5658.579462  7389.573333     31               0.264146  \n",
       "3  1766.346400  1999.909783  2365.642500     25               0.144828  \n",
       "0    89.730533   180.901210   227.333333     42               0.023349  "
      ]
     },
     "execution_count": 18,
     "metadata": {},
     "output_type": "execute_result"
    }
   ],
   "source": [
    "# Normalize the ungrouped df with the grouped attributes.\n",
    "bottle_df_with_grouped_attr = pd.merge(bottle_df, bottle_grouped.reset_index(), on=unique_bottle_keys)\n",
    "bottle_df_with_grouped_attr = bottle_df_with_grouped_attr.sort_values('count', ascending = False)\n",
    "# Only keep bottles that appear in more than count_threshold lots\n",
    "count_threshold = 25\n",
    "count_col = 'count'\n",
    "high_count_bottles = bottle_df_with_grouped_attr[bottle_df_with_grouped_attr[count_col] >= count_threshold]\n",
    "# show high count bottles w/ annual percent change\n",
    "# Compute the normalized slope for each high count bottle and stitch together w/ grouped attributes\n",
    "bottle_grouped_percent_change = high_count_bottles.groupby(unique_bottle_keys).apply(lambda x: pd.Series({annual_percent_change_col: regress_bottle_price_time(x)}))\n",
    "bottle_grouped_percent_change = pd.merge(bottle_grouped.reset_index(), bottle_grouped_percent_change.reset_index(), on=unique_bottle_keys)\n",
    "bottle_grouped_percent_change = bottle_grouped_percent_change.sort_values(annual_percent_change_col, ascending = False)\n",
    "bottle_grouped_percent_change"
   ]
  },
  {
   "cell_type": "code",
   "execution_count": 19,
   "metadata": {},
   "outputs": [
    {
     "data": {
      "image/png": "[encoded data removed]",
      "text/plain": [
       "<matplotlib.figure.Figure at 0x2583b2b2470>"
      ]
     },
     "metadata": {},
     "output_type": "display_data"
    },
    {
     "data": {
      "image/png": "[encoded data removed]",
      "text/plain": [
       "<matplotlib.figure.Figure at 0x2583d6dd6a0>"
      ]
     },
     "metadata": {},
     "output_type": "display_data"
    },
    {
     "data": {
      "image/png": "[encoded data removed]",
      "text/plain": [
       "<matplotlib.figure.Figure at 0x2583afa6f28>"
      ]
     },
     "metadata": {},
     "output_type": "display_data"
    },
    {
     "data": {
      "image/png": "[encoded data removed]",
      "text/plain": [
       "<matplotlib.figure.Figure at 0x2583c453ef0>"
      ]
     },
     "metadata": {},
     "output_type": "display_data"
    }
   ],
   "source": [
    "for unique_bottle_key, single_bottle_timeseries in high_count_bottles.groupby(unique_bottle_keys):\n",
    "    plot_price_over_time(single_bottle_timeseries)"
   ]
  },
  {
   "cell_type": "markdown",
   "metadata": {},
   "source": [
    "## ToDos"
   ]
  },
  {
   "cell_type": "code",
   "execution_count": 20,
   "metadata": {
    "collapsed": true
   },
   "outputs": [],
   "source": [
    "#TODO list!\n",
    "#check auction scraping - all web and in person\n",
    "#can we scrape more dates? the archives go back longer\n",
    "#PnL \n",
    "#Trend over time\n",
    "#Expected inventory, distributions of profit? strategies? always buy < max?)\n",
    "#Lot sizes makes difference?\n",
    "#Ullage level?\n",
    "#Label condition?\n",
    "#mixed lots built from single bottles?"
   ]
  },
  {
   "cell_type": "code",
   "execution_count": null,
   "metadata": {
    "collapsed": true
   },
   "outputs": [],
   "source": []
  }
 ],
 "metadata": {
  "kernelspec": {
   "display_name": "Python 3",
   "language": "python",
   "name": "python3"
  },
  "language_info": {
   "codemirror_mode": {
    "name": "ipython",
    "version": 3
   },
   "file_extension": ".py",
   "mimetype": "text/x-python",
   "name": "python",
   "nbconvert_exporter": "python",
   "pygments_lexer": "ipython3",
   "version": "3.6.0"
  }
 },
 "nbformat": 4,
 "nbformat_minor": 2
}
