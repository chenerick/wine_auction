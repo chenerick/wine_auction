{
 "cells": [
  {
   "cell_type": "code",
   "execution_count": 232,
   "metadata": {
    "collapsed": false
   },
   "outputs": [],
   "source": [
    "import Scrapers.ackerman_scraper as ack_scraper\n",
    "import numpy as np\n",
    "import matplotlib.pyplot as plt"
   ]
  },
  {
   "cell_type": "code",
   "execution_count": 167,
   "metadata": {
    "collapsed": false
   },
   "outputs": [
    {
     "name": "stdout",
     "output_type": "stream",
     "text": [
      "{1185: '183 Apr 7, 2018 (NY)', 1187: '183A Apr 21, 2018 (HK)', 1188: '184 May 16, 2018 (NY)', 1190: '184A Jun 9, 2018 (HK)', 1192: '185 Jun 20, 2018 (NY)', 1184: '182A Mar 24, 2018 (HK)', 1196: '186 Sep 7, 2018 (NY)', 1197: '185A Sep 22, 2018 (HK)', 1165: '175A Sep 23, 2017 (HK)', 1168: '177 Oct 13, 2017 (NY)', 1202: '187 Oct 12, 2018 (NY)', 1172: '178 Nov 18, 2017 (NY)', 1173: '177A Dec 9, 2017 (HK)', 1174: '179 Dec 13, 2017 (NY)', 1177: '181A Jan 27, 2018 (HK)', 1179: '181 Feb 9, 2018 (NY)', 1163: '176 Sep 9, 2017 (NY)', 1181: '182 Mar 10, 2018 (NY)', 1170: '176A Nov 4, 2017 (HK)'}\n",
      "1185 183 Apr 7, 2018 (NY)\n",
      "1187 183A Apr 21, 2018 (HK)\n",
      "1188 184 May 16, 2018 (NY)\n",
      "1190 184A Jun 9, 2018 (HK)\n",
      "1192 185 Jun 20, 2018 (NY)\n",
      "1184 182A Mar 24, 2018 (HK)\n",
      "1196 186 Sep 7, 2018 (NY)\n",
      "1197 185A Sep 22, 2018 (HK)\n",
      "1165 175A Sep 23, 2017 (HK)\n",
      "1168 177 Oct 13, 2017 (NY)\n",
      "1202 187 Oct 12, 2018 (NY)\n",
      "1172 178 Nov 18, 2017 (NY)\n",
      "1173 177A Dec 9, 2017 (HK)\n",
      "1174 179 Dec 13, 2017 (NY)\n",
      "1177 181A Jan 27, 2018 (HK)\n",
      "1179 181 Feb 9, 2018 (NY)\n",
      "1163 176 Sep 9, 2017 (NY)\n",
      "1181 182 Mar 10, 2018 (NY)\n",
      "1170 176A Nov 4, 2017 (HK)\n"
     ]
    }
   ],
   "source": [
    "raw = ack_scraper.dataframe_ackerman_auction()"
   ]
  },
  {
   "cell_type": "code",
   "execution_count": 168,
   "metadata": {
    "collapsed": false
   },
   "outputs": [
    {
     "data": {
      "text/html": [
       "<div>\n",
       "<table border=\"1\" class=\"dataframe\">\n",
       "  <thead>\n",
       "    <tr style=\"text-align: right;\">\n",
       "      <th></th>\n",
       "      <th>Auction.Date</th>\n",
       "      <th>Auction.ID</th>\n",
       "      <th>Auction.Name</th>\n",
       "      <th>BottleQuantity</th>\n",
       "      <th>BottleSummary</th>\n",
       "      <th>Conditions</th>\n",
       "      <th>Designation</th>\n",
       "      <th>LotNo</th>\n",
       "      <th>Producer</th>\n",
       "      <th>ProducerAndDesignation</th>\n",
       "      <th>Size</th>\n",
       "      <th>SoldAmount</th>\n",
       "      <th>Vintage</th>\n",
       "      <th>Wine</th>\n",
       "    </tr>\n",
       "  </thead>\n",
       "  <tbody>\n",
       "    <tr>\n",
       "      <th>0</th>\n",
       "      <td>None</td>\n",
       "      <td>1185</td>\n",
       "      <td>183 Apr 7, 2018 (NY)</td>\n",
       "      <td>1</td>\n",
       "      <td>1 magnum</td>\n",
       "      <td>1x1 magnum owc lscl</td>\n",
       "      <td>Hommage a Jacques Perrin</td>\n",
       "      <td>1</td>\n",
       "      <td>Chateau de Beaucastel</td>\n",
       "      <td>Hommage a Jacques Perrin, Chateau de Beaucastel</td>\n",
       "      <td>magnum</td>\n",
       "      <td>1860.0</td>\n",
       "      <td>1989</td>\n",
       "      <td>Chateauneuf du Pape</td>\n",
       "    </tr>\n",
       "    <tr>\n",
       "      <th>1</th>\n",
       "      <td>None</td>\n",
       "      <td>1185</td>\n",
       "      <td>183 Apr 7, 2018 (NY)</td>\n",
       "      <td>3</td>\n",
       "      <td>3 bottles</td>\n",
       "      <td>1lscl</td>\n",
       "      <td>Hommage a Jacques Perrin</td>\n",
       "      <td>2</td>\n",
       "      <td>Chateau de Beaucastel</td>\n",
       "      <td>Hommage a Jacques Perrin, Chateau de Beaucastel</td>\n",
       "      <td>bottle</td>\n",
       "      <td>1736.0</td>\n",
       "      <td>2001</td>\n",
       "      <td>Chateauneuf du Pape</td>\n",
       "    </tr>\n",
       "    <tr>\n",
       "      <th>2</th>\n",
       "      <td>None</td>\n",
       "      <td>1185</td>\n",
       "      <td>183 Apr 7, 2018 (NY)</td>\n",
       "      <td>1</td>\n",
       "      <td>1 magnum</td>\n",
       "      <td>1x1 magnum owc</td>\n",
       "      <td>Hommage a Jacques Perrin</td>\n",
       "      <td>2</td>\n",
       "      <td>Chateau de Beaucastel</td>\n",
       "      <td>Hommage a Jacques Perrin, Chateau de Beaucastel</td>\n",
       "      <td>magnum</td>\n",
       "      <td>1736.0</td>\n",
       "      <td>2001</td>\n",
       "      <td>Chateauneuf du Pape</td>\n",
       "    </tr>\n",
       "    <tr>\n",
       "      <th>3</th>\n",
       "      <td>None</td>\n",
       "      <td>1185</td>\n",
       "      <td>183 Apr 7, 2018 (NY)</td>\n",
       "      <td>1</td>\n",
       "      <td>1 bottle</td>\n",
       "      <td>3.75cm bc cuc gsvl lscl outstanding color and ...</td>\n",
       "      <td>None</td>\n",
       "      <td>3</td>\n",
       "      <td>Chateau Rayas</td>\n",
       "      <td>Chateau Rayas</td>\n",
       "      <td>bottle</td>\n",
       "      <td>13640.0</td>\n",
       "      <td>1929</td>\n",
       "      <td>Chateauneuf du Pape</td>\n",
       "    </tr>\n",
       "    <tr>\n",
       "      <th>4</th>\n",
       "      <td>None</td>\n",
       "      <td>1185</td>\n",
       "      <td>183 Apr 7, 2018 (NY)</td>\n",
       "      <td>1</td>\n",
       "      <td>1 bottle</td>\n",
       "      <td>7.5cm bc excellent color lscl lstl</td>\n",
       "      <td>None</td>\n",
       "      <td>4</td>\n",
       "      <td>Chateau Rayas</td>\n",
       "      <td>Chateau Rayas</td>\n",
       "      <td>bottle</td>\n",
       "      <td>4712.0</td>\n",
       "      <td>1959</td>\n",
       "      <td>Chateauneuf du Pape</td>\n",
       "    </tr>\n",
       "  </tbody>\n",
       "</table>\n",
       "</div>"
      ],
      "text/plain": [
       "  Auction.Date  Auction.ID          Auction.Name  BottleQuantity  \\\n",
       "0         None        1185  183 Apr 7, 2018 (NY)               1   \n",
       "1         None        1185  183 Apr 7, 2018 (NY)               3   \n",
       "2         None        1185  183 Apr 7, 2018 (NY)               1   \n",
       "3         None        1185  183 Apr 7, 2018 (NY)               1   \n",
       "4         None        1185  183 Apr 7, 2018 (NY)               1   \n",
       "\n",
       "  BottleSummary                                         Conditions  \\\n",
       "0      1 magnum                                1x1 magnum owc lscl   \n",
       "1     3 bottles                                              1lscl   \n",
       "2      1 magnum                                     1x1 magnum owc   \n",
       "3      1 bottle  3.75cm bc cuc gsvl lscl outstanding color and ...   \n",
       "4      1 bottle                 7.5cm bc excellent color lscl lstl   \n",
       "\n",
       "                Designation LotNo               Producer  \\\n",
       "0  Hommage a Jacques Perrin     1  Chateau de Beaucastel   \n",
       "1  Hommage a Jacques Perrin     2  Chateau de Beaucastel   \n",
       "2  Hommage a Jacques Perrin     2  Chateau de Beaucastel   \n",
       "3                      None     3          Chateau Rayas   \n",
       "4                      None     4          Chateau Rayas   \n",
       "\n",
       "                            ProducerAndDesignation    Size  SoldAmount  \\\n",
       "0  Hommage a Jacques Perrin, Chateau de Beaucastel  magnum      1860.0   \n",
       "1  Hommage a Jacques Perrin, Chateau de Beaucastel  bottle      1736.0   \n",
       "2  Hommage a Jacques Perrin, Chateau de Beaucastel  magnum      1736.0   \n",
       "3                                    Chateau Rayas  bottle     13640.0   \n",
       "4                                    Chateau Rayas  bottle      4712.0   \n",
       "\n",
       "  Vintage                 Wine  \n",
       "0    1989  Chateauneuf du Pape  \n",
       "1    2001  Chateauneuf du Pape  \n",
       "2    2001  Chateauneuf du Pape  \n",
       "3    1929  Chateauneuf du Pape  \n",
       "4    1959  Chateauneuf du Pape  "
      ]
     },
     "execution_count": 168,
     "metadata": {},
     "output_type": "execute_result"
    }
   ],
   "source": [
    "raw.head()"
   ]
  },
  {
   "cell_type": "code",
   "execution_count": 156,
   "metadata": {
    "collapsed": false
   },
   "outputs": [
    {
     "data": {
      "text/plain": [
       "(31962, 14)"
      ]
     },
     "execution_count": 156,
     "metadata": {},
     "output_type": "execute_result"
    }
   ],
   "source": [
    "raw.shape"
   ]
  },
  {
   "cell_type": "code",
   "execution_count": 200,
   "metadata": {
    "collapsed": false
   },
   "outputs": [
    {
     "data": {
      "text/plain": [
       "(13394, 15)"
      ]
     },
     "execution_count": 200,
     "metadata": {},
     "output_type": "execute_result"
    }
   ],
   "source": [
    "# need to group by lot number, append most rows, but the price seems to be static so don't sum that\n",
    "# for now,  filtering away mixed lots by saying anything that has shared lot numbers shoudl be removed\n",
    "\n",
    "df = raw.drop_duplicates(subset=['Auction.ID', 'LotNo'], keep=False)\n",
    "df = df.reset_index()\n",
    "df.shape"
   ]
  },
  {
   "cell_type": "code",
   "execution_count": 201,
   "metadata": {
    "collapsed": false
   },
   "outputs": [
    {
     "data": {
      "text/html": [
       "<div>\n",
       "<table border=\"1\" class=\"dataframe\">\n",
       "  <thead>\n",
       "    <tr style=\"text-align: right;\">\n",
       "      <th></th>\n",
       "      <th>index</th>\n",
       "      <th>Auction.Date</th>\n",
       "      <th>Auction.ID</th>\n",
       "      <th>Auction.Name</th>\n",
       "      <th>BottleQuantity</th>\n",
       "      <th>BottleSummary</th>\n",
       "      <th>Conditions</th>\n",
       "      <th>Designation</th>\n",
       "      <th>LotNo</th>\n",
       "      <th>Producer</th>\n",
       "      <th>ProducerAndDesignation</th>\n",
       "      <th>Size</th>\n",
       "      <th>SoldAmount</th>\n",
       "      <th>Vintage</th>\n",
       "      <th>Wine</th>\n",
       "    </tr>\n",
       "  </thead>\n",
       "  <tbody>\n",
       "    <tr>\n",
       "      <th>0</th>\n",
       "      <td>0</td>\n",
       "      <td>None</td>\n",
       "      <td>1185</td>\n",
       "      <td>183 Apr 7, 2018 (NY)</td>\n",
       "      <td>1</td>\n",
       "      <td>1 magnum</td>\n",
       "      <td>1x1 magnum owc lscl</td>\n",
       "      <td>Hommage a Jacques Perrin</td>\n",
       "      <td>1</td>\n",
       "      <td>Chateau de Beaucastel</td>\n",
       "      <td>Hommage a Jacques Perrin, Chateau de Beaucastel</td>\n",
       "      <td>magnum</td>\n",
       "      <td>1860.0</td>\n",
       "      <td>1989</td>\n",
       "      <td>Chateauneuf du Pape</td>\n",
       "    </tr>\n",
       "    <tr>\n",
       "      <th>1</th>\n",
       "      <td>3</td>\n",
       "      <td>None</td>\n",
       "      <td>1185</td>\n",
       "      <td>183 Apr 7, 2018 (NY)</td>\n",
       "      <td>1</td>\n",
       "      <td>1 bottle</td>\n",
       "      <td>3.75cm bc cuc gsvl lscl outstanding color and ...</td>\n",
       "      <td>None</td>\n",
       "      <td>3</td>\n",
       "      <td>Chateau Rayas</td>\n",
       "      <td>Chateau Rayas</td>\n",
       "      <td>bottle</td>\n",
       "      <td>13640.0</td>\n",
       "      <td>1929</td>\n",
       "      <td>Chateauneuf du Pape</td>\n",
       "    </tr>\n",
       "    <tr>\n",
       "      <th>2</th>\n",
       "      <td>4</td>\n",
       "      <td>None</td>\n",
       "      <td>1185</td>\n",
       "      <td>183 Apr 7, 2018 (NY)</td>\n",
       "      <td>1</td>\n",
       "      <td>1 bottle</td>\n",
       "      <td>7.5cm bc excellent color lscl lstl</td>\n",
       "      <td>None</td>\n",
       "      <td>4</td>\n",
       "      <td>Chateau Rayas</td>\n",
       "      <td>Chateau Rayas</td>\n",
       "      <td>bottle</td>\n",
       "      <td>4712.0</td>\n",
       "      <td>1959</td>\n",
       "      <td>Chateauneuf du Pape</td>\n",
       "    </tr>\n",
       "    <tr>\n",
       "      <th>3</th>\n",
       "      <td>5</td>\n",
       "      <td>None</td>\n",
       "      <td>1185</td>\n",
       "      <td>183 Apr 7, 2018 (NY)</td>\n",
       "      <td>1</td>\n",
       "      <td>1 bottle</td>\n",
       "      <td>7.5cm bc bsl excellent color</td>\n",
       "      <td>None</td>\n",
       "      <td>5</td>\n",
       "      <td>Chateau Rayas</td>\n",
       "      <td>Chateau Rayas</td>\n",
       "      <td>bottle</td>\n",
       "      <td>3472.0</td>\n",
       "      <td>1961</td>\n",
       "      <td>Chateauneuf du Pape</td>\n",
       "    </tr>\n",
       "    <tr>\n",
       "      <th>4</th>\n",
       "      <td>6</td>\n",
       "      <td>None</td>\n",
       "      <td>1185</td>\n",
       "      <td>183 Apr 7, 2018 (NY)</td>\n",
       "      <td>2</td>\n",
       "      <td>2 bottles</td>\n",
       "      <td>1 excellent color 1 outstanding color and cond...</td>\n",
       "      <td>None</td>\n",
       "      <td>6</td>\n",
       "      <td>Chateau Rayas</td>\n",
       "      <td>Chateau Rayas</td>\n",
       "      <td>bottle</td>\n",
       "      <td>4960.0</td>\n",
       "      <td>1978</td>\n",
       "      <td>Chateauneuf du Pape</td>\n",
       "    </tr>\n",
       "  </tbody>\n",
       "</table>\n",
       "</div>"
      ],
      "text/plain": [
       "   index Auction.Date  Auction.ID          Auction.Name  BottleQuantity  \\\n",
       "0      0         None        1185  183 Apr 7, 2018 (NY)               1   \n",
       "1      3         None        1185  183 Apr 7, 2018 (NY)               1   \n",
       "2      4         None        1185  183 Apr 7, 2018 (NY)               1   \n",
       "3      5         None        1185  183 Apr 7, 2018 (NY)               1   \n",
       "4      6         None        1185  183 Apr 7, 2018 (NY)               2   \n",
       "\n",
       "  BottleSummary                                         Conditions  \\\n",
       "0      1 magnum                                1x1 magnum owc lscl   \n",
       "1      1 bottle  3.75cm bc cuc gsvl lscl outstanding color and ...   \n",
       "2      1 bottle                 7.5cm bc excellent color lscl lstl   \n",
       "3      1 bottle                       7.5cm bc bsl excellent color   \n",
       "4     2 bottles  1 excellent color 1 outstanding color and cond...   \n",
       "\n",
       "                Designation LotNo               Producer  \\\n",
       "0  Hommage a Jacques Perrin     1  Chateau de Beaucastel   \n",
       "1                      None     3          Chateau Rayas   \n",
       "2                      None     4          Chateau Rayas   \n",
       "3                      None     5          Chateau Rayas   \n",
       "4                      None     6          Chateau Rayas   \n",
       "\n",
       "                            ProducerAndDesignation    Size  SoldAmount  \\\n",
       "0  Hommage a Jacques Perrin, Chateau de Beaucastel  magnum      1860.0   \n",
       "1                                    Chateau Rayas  bottle     13640.0   \n",
       "2                                    Chateau Rayas  bottle      4712.0   \n",
       "3                                    Chateau Rayas  bottle      3472.0   \n",
       "4                                    Chateau Rayas  bottle      4960.0   \n",
       "\n",
       "  Vintage                 Wine  \n",
       "0    1989  Chateauneuf du Pape  \n",
       "1    1929  Chateauneuf du Pape  \n",
       "2    1959  Chateauneuf du Pape  \n",
       "3    1961  Chateauneuf du Pape  \n",
       "4    1978  Chateauneuf du Pape  "
      ]
     },
     "execution_count": 201,
     "metadata": {},
     "output_type": "execute_result"
    }
   ],
   "source": [
    "df.head()"
   ]
  },
  {
   "cell_type": "code",
   "execution_count": 203,
   "metadata": {
    "collapsed": false
   },
   "outputs": [
    {
     "data": {
      "text/plain": [
       "(11055, 17)"
      ]
     },
     "execution_count": 203,
     "metadata": {},
     "output_type": "execute_result"
    }
   ],
   "source": [
    "# convert to dollars\n",
    "HKDUSD = 0.1277\n",
    "def toUSD(row):\n",
    "    if 'HK' in row['Auction.Name']:\n",
    "       return row['SoldAmount'] * HKDUSD\n",
    "    else:\n",
    "       return row['SoldAmount'] \n",
    "\n",
    "df['SoldAmountUSD'] = df.apply( toUSD, axis = 1 )\n",
    "    \n",
    "# compute unit price by bottle\n",
    "df['UnitPriceUSD' = df[ 'SoldAmountUSD' ] / df[ 'BottleQuantity' ]\n",
    "\n",
    "# bottle sizes only for now\n",
    "bottle_df = df[ df[\"BottleSummary\"].str.contains( \"bottle\") ]\n",
    "bottle_df.shape"
   ]
  },
  {
   "cell_type": "code",
   "execution_count": 218,
   "metadata": {
    "collapsed": false
   },
   "outputs": [],
   "source": [
    "bottle_grouped = bottle_df.groupby(['Wine', 'Vintage', \"Producer\"]).UnitPriceUSD.agg( ['min', 'mean', 'max', \"count\"] )\n",
    "bottle_grouped = bottle_grouped.reset_index()\n",
    "bottle_grouped = bottle_grouped.sort_values('count', ascending = False)"
   ]
  },
  {
   "cell_type": "code",
   "execution_count": 219,
   "metadata": {
    "collapsed": false
   },
   "outputs": [],
   "source": [
    "mouton_grouped = bottle_grouped[ bottle_grouped[\"Wine\"].str.contains(\"Mouton\") ]"
   ]
  },
  {
   "cell_type": "code",
   "execution_count": 220,
   "metadata": {
    "collapsed": false
   },
   "outputs": [],
   "source": [
    "mouton_all = bottle_df[ bottle_df[\"Wine\"].str.contains( \"Mouton\") ]"
   ]
  },
  {
   "cell_type": "code",
   "execution_count": null,
   "metadata": {
    "collapsed": true
   },
   "outputs": [],
   "source": []
  },
  {
   "cell_type": "code",
   "execution_count": 222,
   "metadata": {
    "collapsed": false
   },
   "outputs": [
    {
     "data": {
      "text/html": [
       "<div>\n",
       "<table border=\"1\" class=\"dataframe\">\n",
       "  <thead>\n",
       "    <tr style=\"text-align: right;\">\n",
       "      <th></th>\n",
       "      <th>Wine</th>\n",
       "      <th>Vintage</th>\n",
       "      <th>Producer</th>\n",
       "      <th>min</th>\n",
       "      <th>mean</th>\n",
       "      <th>max</th>\n",
       "      <th>count</th>\n",
       "    </tr>\n",
       "  </thead>\n",
       "  <tbody>\n",
       "    <tr>\n",
       "      <th>1438</th>\n",
       "      <td>Chateau Mouton Rothschild</td>\n",
       "      <td>2000</td>\n",
       "      <td>Chateau Mouton Rothschild</td>\n",
       "      <td>1766.346400</td>\n",
       "      <td>1999.909783</td>\n",
       "      <td>2365.642500</td>\n",
       "      <td>25</td>\n",
       "    </tr>\n",
       "    <tr>\n",
       "      <th>1425</th>\n",
       "      <td>Chateau Mouton Rothschild</td>\n",
       "      <td>1982</td>\n",
       "      <td>Chateau Mouton Rothschild</td>\n",
       "      <td>992.000000</td>\n",
       "      <td>1215.591410</td>\n",
       "      <td>1482.000000</td>\n",
       "      <td>23</td>\n",
       "    </tr>\n",
       "    <tr>\n",
       "      <th>1428</th>\n",
       "      <td>Chateau Mouton Rothschild</td>\n",
       "      <td>1986</td>\n",
       "      <td>Chateau Mouton Rothschild</td>\n",
       "      <td>806.000000</td>\n",
       "      <td>905.878661</td>\n",
       "      <td>1033.333333</td>\n",
       "      <td>23</td>\n",
       "    </tr>\n",
       "    <tr>\n",
       "      <th>1436</th>\n",
       "      <td>Chateau Mouton Rothschild</td>\n",
       "      <td>1998</td>\n",
       "      <td>Chateau Mouton Rothschild</td>\n",
       "      <td>232.500000</td>\n",
       "      <td>500.521879</td>\n",
       "      <td>633.392000</td>\n",
       "      <td>11</td>\n",
       "    </tr>\n",
       "    <tr>\n",
       "      <th>1434</th>\n",
       "      <td>Chateau Mouton Rothschild</td>\n",
       "      <td>1995</td>\n",
       "      <td>Chateau Mouton Rothschild</td>\n",
       "      <td>499.413417</td>\n",
       "      <td>535.796175</td>\n",
       "      <td>568.333333</td>\n",
       "      <td>10</td>\n",
       "    </tr>\n",
       "  </tbody>\n",
       "</table>\n",
       "</div>"
      ],
      "text/plain": [
       "                           Wine Vintage                   Producer  \\\n",
       "1438  Chateau Mouton Rothschild    2000  Chateau Mouton Rothschild   \n",
       "1425  Chateau Mouton Rothschild    1982  Chateau Mouton Rothschild   \n",
       "1428  Chateau Mouton Rothschild    1986  Chateau Mouton Rothschild   \n",
       "1436  Chateau Mouton Rothschild    1998  Chateau Mouton Rothschild   \n",
       "1434  Chateau Mouton Rothschild    1995  Chateau Mouton Rothschild   \n",
       "\n",
       "              min         mean          max  count  \n",
       "1438  1766.346400  1999.909783  2365.642500     25  \n",
       "1425   992.000000  1215.591410  1482.000000     23  \n",
       "1428   806.000000   905.878661  1033.333333     23  \n",
       "1436   232.500000   500.521879   633.392000     11  \n",
       "1434   499.413417   535.796175   568.333333     10  "
      ]
     },
     "execution_count": 222,
     "metadata": {},
     "output_type": "execute_result"
    }
   ],
   "source": [
    "mouton_grouped.head()"
   ]
  },
  {
   "cell_type": "code",
   "execution_count": 224,
   "metadata": {
    "collapsed": false
   },
   "outputs": [],
   "source": [
    "mouton_1982 = mouton_all[ mouton_all['Vintage'] == \"1982\"]"
   ]
  },
  {
   "cell_type": "code",
   "execution_count": 225,
   "metadata": {
    "collapsed": false
   },
   "outputs": [
    {
     "data": {
      "text/html": [
       "<div>\n",
       "<table border=\"1\" class=\"dataframe\">\n",
       "  <thead>\n",
       "    <tr style=\"text-align: right;\">\n",
       "      <th></th>\n",
       "      <th>index</th>\n",
       "      <th>Auction.Date</th>\n",
       "      <th>Auction.ID</th>\n",
       "      <th>Auction.Name</th>\n",
       "      <th>BottleQuantity</th>\n",
       "      <th>BottleSummary</th>\n",
       "      <th>Conditions</th>\n",
       "      <th>Designation</th>\n",
       "      <th>LotNo</th>\n",
       "      <th>Producer</th>\n",
       "      <th>ProducerAndDesignation</th>\n",
       "      <th>Size</th>\n",
       "      <th>SoldAmount</th>\n",
       "      <th>Vintage</th>\n",
       "      <th>Wine</th>\n",
       "      <th>SoldAmountUSD</th>\n",
       "      <th>UnitPriceUSD</th>\n",
       "    </tr>\n",
       "  </thead>\n",
       "  <tbody>\n",
       "    <tr>\n",
       "      <th>319</th>\n",
       "      <td>457</td>\n",
       "      <td>None</td>\n",
       "      <td>1185</td>\n",
       "      <td>183 Apr 7, 2018 (NY)</td>\n",
       "      <td>12</td>\n",
       "      <td>12 bottles</td>\n",
       "      <td>1vhs 1wc 1x12 bottle chateau mouton rothschild...</td>\n",
       "      <td>None</td>\n",
       "      <td>369</td>\n",
       "      <td>Chateau Mouton Rothschild</td>\n",
       "      <td>Chateau Mouton Rothschild</td>\n",
       "      <td>bottle</td>\n",
       "      <td>16120.0</td>\n",
       "      <td>1982</td>\n",
       "      <td>Chateau Mouton Rothschild</td>\n",
       "      <td>16120.000</td>\n",
       "      <td>1343.333333</td>\n",
       "    </tr>\n",
       "    <tr>\n",
       "      <th>320</th>\n",
       "      <td>458</td>\n",
       "      <td>None</td>\n",
       "      <td>1185</td>\n",
       "      <td>183 Apr 7, 2018 (NY)</td>\n",
       "      <td>10</td>\n",
       "      <td>10 bottles</td>\n",
       "      <td>1x12 bottle owc 2bn 2cuc 2spc 4nc 8lbsl</td>\n",
       "      <td>None</td>\n",
       "      <td>370</td>\n",
       "      <td>Chateau Mouton Rothschild</td>\n",
       "      <td>Chateau Mouton Rothschild</td>\n",
       "      <td>bottle</td>\n",
       "      <td>12400.0</td>\n",
       "      <td>1982</td>\n",
       "      <td>Chateau Mouton Rothschild</td>\n",
       "      <td>12400.000</td>\n",
       "      <td>1240.000000</td>\n",
       "    </tr>\n",
       "    <tr>\n",
       "      <th>579</th>\n",
       "      <td>793</td>\n",
       "      <td>None</td>\n",
       "      <td>1185</td>\n",
       "      <td>183 Apr 7, 2018 (NY)</td>\n",
       "      <td>10</td>\n",
       "      <td>10 bottles</td>\n",
       "      <td>1x12 bottle owc 4ts 6bn</td>\n",
       "      <td>None</td>\n",
       "      <td>646</td>\n",
       "      <td>Chateau Mouton Rothschild</td>\n",
       "      <td>Chateau Mouton Rothschild</td>\n",
       "      <td>bottle</td>\n",
       "      <td>12400.0</td>\n",
       "      <td>1982</td>\n",
       "      <td>Chateau Mouton Rothschild</td>\n",
       "      <td>12400.000</td>\n",
       "      <td>1240.000000</td>\n",
       "    </tr>\n",
       "    <tr>\n",
       "      <th>1232</th>\n",
       "      <td>707</td>\n",
       "      <td>None</td>\n",
       "      <td>1187</td>\n",
       "      <td>183A Apr 21, 2018 (HK)</td>\n",
       "      <td>12</td>\n",
       "      <td>12 bottles</td>\n",
       "      <td>12vlscl 1lstl 1vhs 2nc 2ts 8bn 8lwrl</td>\n",
       "      <td>None</td>\n",
       "      <td>593</td>\n",
       "      <td>Chateau Mouton Rothschild</td>\n",
       "      <td>Chateau Mouton Rothschild</td>\n",
       "      <td>bottle</td>\n",
       "      <td>119040.0</td>\n",
       "      <td>1982</td>\n",
       "      <td>Chateau Mouton Rothschild</td>\n",
       "      <td>15201.408</td>\n",
       "      <td>1266.784000</td>\n",
       "    </tr>\n",
       "    <tr>\n",
       "      <th>1278</th>\n",
       "      <td>760</td>\n",
       "      <td>None</td>\n",
       "      <td>1187</td>\n",
       "      <td>183A Apr 21, 2018 (HK)</td>\n",
       "      <td>2</td>\n",
       "      <td>2 bottles</td>\n",
       "      <td>1bn 1lbsl 1lgsl 1ts</td>\n",
       "      <td>None</td>\n",
       "      <td>644</td>\n",
       "      <td>Chateau Mouton Rothschild</td>\n",
       "      <td>Chateau Mouton Rothschild</td>\n",
       "      <td>bottle</td>\n",
       "      <td>19840.0</td>\n",
       "      <td>1982</td>\n",
       "      <td>Chateau Mouton Rothschild</td>\n",
       "      <td>2533.568</td>\n",
       "      <td>1266.784000</td>\n",
       "    </tr>\n",
       "  </tbody>\n",
       "</table>\n",
       "</div>"
      ],
      "text/plain": [
       "      index Auction.Date  Auction.ID            Auction.Name  BottleQuantity  \\\n",
       "319     457         None        1185    183 Apr 7, 2018 (NY)              12   \n",
       "320     458         None        1185    183 Apr 7, 2018 (NY)              10   \n",
       "579     793         None        1185    183 Apr 7, 2018 (NY)              10   \n",
       "1232    707         None        1187  183A Apr 21, 2018 (HK)              12   \n",
       "1278    760         None        1187  183A Apr 21, 2018 (HK)               2   \n",
       "\n",
       "     BottleSummary                                         Conditions  \\\n",
       "319     12 bottles  1vhs 1wc 1x12 bottle chateau mouton rothschild...   \n",
       "320     10 bottles            1x12 bottle owc 2bn 2cuc 2spc 4nc 8lbsl   \n",
       "579     10 bottles                            1x12 bottle owc 4ts 6bn   \n",
       "1232    12 bottles               12vlscl 1lstl 1vhs 2nc 2ts 8bn 8lwrl   \n",
       "1278     2 bottles                                1bn 1lbsl 1lgsl 1ts   \n",
       "\n",
       "     Designation LotNo                   Producer     ProducerAndDesignation  \\\n",
       "319         None   369  Chateau Mouton Rothschild  Chateau Mouton Rothschild   \n",
       "320         None   370  Chateau Mouton Rothschild  Chateau Mouton Rothschild   \n",
       "579         None   646  Chateau Mouton Rothschild  Chateau Mouton Rothschild   \n",
       "1232        None   593  Chateau Mouton Rothschild  Chateau Mouton Rothschild   \n",
       "1278        None   644  Chateau Mouton Rothschild  Chateau Mouton Rothschild   \n",
       "\n",
       "        Size  SoldAmount Vintage                       Wine  SoldAmountUSD  \\\n",
       "319   bottle     16120.0    1982  Chateau Mouton Rothschild      16120.000   \n",
       "320   bottle     12400.0    1982  Chateau Mouton Rothschild      12400.000   \n",
       "579   bottle     12400.0    1982  Chateau Mouton Rothschild      12400.000   \n",
       "1232  bottle    119040.0    1982  Chateau Mouton Rothschild      15201.408   \n",
       "1278  bottle     19840.0    1982  Chateau Mouton Rothschild       2533.568   \n",
       "\n",
       "      UnitPriceUSD  \n",
       "319    1343.333333  \n",
       "320    1240.000000  \n",
       "579    1240.000000  \n",
       "1232   1266.784000  \n",
       "1278   1266.784000  "
      ]
     },
     "execution_count": 225,
     "metadata": {},
     "output_type": "execute_result"
    }
   ],
   "source": [
    "mouton_1982.head()"
   ]
  },
  {
   "cell_type": "code",
   "execution_count": 238,
   "metadata": {
    "collapsed": false
   },
   "outputs": [],
   "source": [
    "plt.hist( mouton_1982[ 'UnitPriceUSD'], 6 )\n",
    "plt.show()"
   ]
  },
  {
   "cell_type": "code",
   "execution_count": 241,
   "metadata": {
    "collapsed": false
   },
   "outputs": [],
   "source": [
    "Vintage = \"1988\"\n",
    "Producer = \"Leoville Las Cases\"\n",
    "mouton_all = bottle_df[ bottle_df[\"Wine\"].str.contains( Producer) ]\n",
    "mouton_1982 = mouton_all[ mouton_all['Vintage'] == Vintage ]\n",
    "\n",
    "plt.hist( mouton_1982[ 'UnitPriceUSD'], 6 )\n",
    "plt.show()"
   ]
  },
  {
   "cell_type": "code",
   "execution_count": 259,
   "metadata": {
    "collapsed": false
   },
   "outputs": [
    {
     "data": {
      "text/html": [
       "<div>\n",
       "<table border=\"1\" class=\"dataframe\">\n",
       "  <thead>\n",
       "    <tr style=\"text-align: right;\">\n",
       "      <th></th>\n",
       "      <th>Wine</th>\n",
       "      <th>Vintage</th>\n",
       "      <th>Producer</th>\n",
       "      <th>min</th>\n",
       "      <th>mean</th>\n",
       "      <th>max</th>\n",
       "      <th>count</th>\n",
       "    </tr>\n",
       "  </thead>\n",
       "  <tbody>\n",
       "    <tr>\n",
       "      <th>1241</th>\n",
       "      <td>Chateau Latour</td>\n",
       "      <td>2000</td>\n",
       "      <td>Chateau Latour</td>\n",
       "      <td>841.117333</td>\n",
       "      <td>922.503863</td>\n",
       "      <td>1029.166667</td>\n",
       "      <td>19</td>\n",
       "    </tr>\n",
       "    <tr>\n",
       "      <th>3934</th>\n",
       "      <td>Screaming Eagle Cabernet Sauvignon</td>\n",
       "      <td>2015</td>\n",
       "      <td>Screaming Eagle</td>\n",
       "      <td>2686.666667</td>\n",
       "      <td>3126.434963</td>\n",
       "      <td>3306.666667</td>\n",
       "      <td>18</td>\n",
       "    </tr>\n",
       "    <tr>\n",
       "      <th>2669</th>\n",
       "      <td>Hundred Acre Cabernet Sauvignon</td>\n",
       "      <td>2011</td>\n",
       "      <td>Hundred Acre</td>\n",
       "      <td>226.416667</td>\n",
       "      <td>249.421569</td>\n",
       "      <td>267.583333</td>\n",
       "      <td>17</td>\n",
       "    </tr>\n",
       "    <tr>\n",
       "      <th>2853</th>\n",
       "      <td>Les Forts de Latour</td>\n",
       "      <td>2010</td>\n",
       "      <td>chateau de la tour</td>\n",
       "      <td>248.000000</td>\n",
       "      <td>258.608889</td>\n",
       "      <td>263.913333</td>\n",
       "      <td>15</td>\n",
       "    </tr>\n",
       "    <tr>\n",
       "      <th>1313</th>\n",
       "      <td>Chateau Leoville Las Cases</td>\n",
       "      <td>1982</td>\n",
       "      <td>Chateau Leoville Las Cases</td>\n",
       "      <td>316.696000</td>\n",
       "      <td>358.716496</td>\n",
       "      <td>392.666667</td>\n",
       "      <td>13</td>\n",
       "    </tr>\n",
       "  </tbody>\n",
       "</table>\n",
       "</div>"
      ],
      "text/plain": [
       "                                    Wine Vintage                    Producer  \\\n",
       "1241                      Chateau Latour    2000              Chateau Latour   \n",
       "3934  Screaming Eagle Cabernet Sauvignon    2015             Screaming Eagle   \n",
       "2669     Hundred Acre Cabernet Sauvignon    2011                Hundred Acre   \n",
       "2853                 Les Forts de Latour    2010          chateau de la tour   \n",
       "1313          Chateau Leoville Las Cases    1982  Chateau Leoville Las Cases   \n",
       "\n",
       "              min         mean          max  count  \n",
       "1241   841.117333   922.503863  1029.166667     19  \n",
       "3934  2686.666667  3126.434963  3306.666667     18  \n",
       "2669   226.416667   249.421569   267.583333     17  \n",
       "2853   248.000000   258.608889   263.913333     15  \n",
       "1313   316.696000   358.716496   392.666667     13  "
      ]
     },
     "execution_count": 259,
     "metadata": {},
     "output_type": "execute_result"
    }
   ],
   "source": [
    "bottle_profit = bottle_grouped[ bottle_grouped[\"max\"] / 1.25 < bottle_grouped[\"min\"] ]\n",
    "bottle_profit = bottle_profit[ bottle_profit[\"count\"] > 5 ]\n",
    "bottle_profit.head()"
   ]
  },
  {
   "cell_type": "code",
   "execution_count": 260,
   "metadata": {
    "collapsed": false
   },
   "outputs": [
    {
     "data": {
      "text/plain": [
       "(77, 7)"
      ]
     },
     "execution_count": 260,
     "metadata": {},
     "output_type": "execute_result"
    }
   ],
   "source": [
    "bottle_profit.shape"
   ]
  },
  {
   "cell_type": "code",
   "execution_count": null,
   "metadata": {
    "collapsed": true
   },
   "outputs": [],
   "source": [
    "#TODO list!\n",
    "#PnL \n",
    "#Trend over time\n",
    "#Expected inventory, distributions of profit? strategies? always buy < max?)\n",
    "#Lot sizes makes difference?\n",
    "#Ullage level?\n",
    "#Label condition?"
   ]
  }
 ],
 "metadata": {
  "kernelspec": {
   "display_name": "Python 3",
   "language": "python",
   "name": "python3"
  },
  "language_info": {
   "codemirror_mode": {
    "name": "ipython",
    "version": 3
   },
   "file_extension": ".py",
   "mimetype": "text/x-python",
   "name": "python",
   "nbconvert_exporter": "python",
   "pygments_lexer": "ipython3",
   "version": "3.5.1"
  }
 },
 "nbformat": 4,
 "nbformat_minor": 2
}
