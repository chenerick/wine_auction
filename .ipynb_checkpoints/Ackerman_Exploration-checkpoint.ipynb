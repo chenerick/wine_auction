{
 "cells": [
  {
   "cell_type": "code",
   "execution_count": 2,
   "metadata": {
    "collapsed": false
   },
   "outputs": [],
   "source": [
    "import Scrapers.ackerman_scraper as ack_scraper"
   ]
  },
  {
   "cell_type": "code",
   "execution_count": 3,
   "metadata": {
    "collapsed": false
   },
   "outputs": [
    {
     "name": "stdout",
     "output_type": "stream",
     "text": [
      "{1202: '187 Oct 12, 2018 (NY)', 1197: '185A Sep 22, 2018 (HK)', 1196: '186 Sep 7, 2018 (NY)', 1192: '185 Jun 20, 2018 (NY)', 1190: '184A Jun 9, 2018 (HK)', 1188: '184 May 16, 2018 (NY)', 1187: '183A Apr 21, 2018 (HK)', 1185: '183 Apr 7, 2018 (NY)', 1184: '182A Mar 24, 2018 (HK)', 1181: '182 Mar 10, 2018 (NY)', 1179: '181 Feb 9, 2018 (NY)', 1177: '181A Jan 27, 2018 (HK)', 1174: '179 Dec 13, 2017 (NY)', 1173: '177A Dec 9, 2017 (HK)', 1172: '178 Nov 18, 2017 (NY)', 1170: '176A Nov 4, 2017 (HK)', 1168: '177 Oct 13, 2017 (NY)', 1165: '175A Sep 23, 2017 (HK)', 1163: '176 Sep 9, 2017 (NY)'}\n",
      "1202 187 Oct 12, 2018 (NY)\n",
      "1197 185A Sep 22, 2018 (HK)\n",
      "1196 186 Sep 7, 2018 (NY)\n",
      "1192 185 Jun 20, 2018 (NY)\n",
      "1190 184A Jun 9, 2018 (HK)\n",
      "1188 184 May 16, 2018 (NY)\n",
      "1187 183A Apr 21, 2018 (HK)\n",
      "1185 183 Apr 7, 2018 (NY)\n",
      "1184 182A Mar 24, 2018 (HK)\n",
      "1181 182 Mar 10, 2018 (NY)\n",
      "1179 181 Feb 9, 2018 (NY)\n",
      "1177 181A Jan 27, 2018 (HK)\n",
      "1174 179 Dec 13, 2017 (NY)\n",
      "1173 177A Dec 9, 2017 (HK)\n",
      "1172 178 Nov 18, 2017 (NY)\n",
      "1170 176A Nov 4, 2017 (HK)\n",
      "1168 177 Oct 13, 2017 (NY)\n",
      "1165 175A Sep 23, 2017 (HK)\n",
      "1163 176 Sep 9, 2017 (NY)\n"
     ]
    }
   ],
   "source": [
    "df = ack_scraper.dataframe_ackerman_auction()"
   ]
  },
  {
   "cell_type": "code",
   "execution_count": 5,
   "metadata": {
    "collapsed": true
   },
   "outputs": [
    {
     "data": {
      "text/html": [
       "<div>\n",
       "<table border=\"1\" class=\"dataframe\">\n",
       "  <thead>\n",
       "    <tr style=\"text-align: right;\">\n",
       "      <th></th>\n",
       "      <th>Auction.Date</th>\n",
       "      <th>Auction.ID</th>\n",
       "      <th>Auction.Name</th>\n",
       "      <th>BottleQuantity</th>\n",
       "      <th>BottleSummary</th>\n",
       "      <th>Conditions</th>\n",
       "      <th>Designation</th>\n",
       "      <th>LotNo</th>\n",
       "      <th>Producer</th>\n",
       "      <th>ProducerAndDesignation</th>\n",
       "      <th>Size</th>\n",
       "      <th>SoldAmount</th>\n",
       "      <th>Vintage</th>\n",
       "      <th>Wine</th>\n",
       "    </tr>\n",
       "  </thead>\n",
       "  <tbody>\n",
       "    <tr>\n",
       "      <th>0</th>\n",
       "      <td>None</td>\n",
       "      <td>1202</td>\n",
       "      <td>187 Oct 12, 2018 (NY)</td>\n",
       "      <td>1</td>\n",
       "      <td>1 bottle</td>\n",
       "      <td>bn sdc</td>\n",
       "      <td>None</td>\n",
       "      <td>1</td>\n",
       "      <td>None</td>\n",
       "      <td></td>\n",
       "      <td>bottle</td>\n",
       "      <td>3968.0</td>\n",
       "      <td>1982</td>\n",
       "      <td>Chateau Angelus</td>\n",
       "    </tr>\n",
       "    <tr>\n",
       "      <th>1</th>\n",
       "      <td>None</td>\n",
       "      <td>1202</td>\n",
       "      <td>187 Oct 12, 2018 (NY)</td>\n",
       "      <td>1</td>\n",
       "      <td>1 bottle</td>\n",
       "      <td></td>\n",
       "      <td>None</td>\n",
       "      <td>1</td>\n",
       "      <td>None</td>\n",
       "      <td></td>\n",
       "      <td>bottle</td>\n",
       "      <td>3968.0</td>\n",
       "      <td>1983</td>\n",
       "      <td>Chateau Angelus</td>\n",
       "    </tr>\n",
       "    <tr>\n",
       "      <th>2</th>\n",
       "      <td>None</td>\n",
       "      <td>1202</td>\n",
       "      <td>187 Oct 12, 2018 (NY)</td>\n",
       "      <td>1</td>\n",
       "      <td>1 bottle</td>\n",
       "      <td>spc</td>\n",
       "      <td>None</td>\n",
       "      <td>1</td>\n",
       "      <td>None</td>\n",
       "      <td></td>\n",
       "      <td>bottle</td>\n",
       "      <td>3968.0</td>\n",
       "      <td>1985</td>\n",
       "      <td>Chateau Angelus</td>\n",
       "    </tr>\n",
       "    <tr>\n",
       "      <th>3</th>\n",
       "      <td>None</td>\n",
       "      <td>1202</td>\n",
       "      <td>187 Oct 12, 2018 (NY)</td>\n",
       "      <td>1</td>\n",
       "      <td>1 bottle</td>\n",
       "      <td></td>\n",
       "      <td>None</td>\n",
       "      <td>1</td>\n",
       "      <td>None</td>\n",
       "      <td></td>\n",
       "      <td>bottle</td>\n",
       "      <td>3968.0</td>\n",
       "      <td>1988</td>\n",
       "      <td>Chateau Angelus</td>\n",
       "    </tr>\n",
       "    <tr>\n",
       "      <th>4</th>\n",
       "      <td>None</td>\n",
       "      <td>1202</td>\n",
       "      <td>187 Oct 12, 2018 (NY)</td>\n",
       "      <td>1</td>\n",
       "      <td>1 bottle</td>\n",
       "      <td></td>\n",
       "      <td>None</td>\n",
       "      <td>1</td>\n",
       "      <td>None</td>\n",
       "      <td></td>\n",
       "      <td>bottle</td>\n",
       "      <td>3968.0</td>\n",
       "      <td>1990</td>\n",
       "      <td>Chateau Angelus</td>\n",
       "    </tr>\n",
       "  </tbody>\n",
       "</table>\n",
       "</div>"
      ],
      "text/plain": [
       "  Auction.Date  Auction.ID           Auction.Name  BottleQuantity  \\\n",
       "0         None        1202  187 Oct 12, 2018 (NY)               1   \n",
       "1         None        1202  187 Oct 12, 2018 (NY)               1   \n",
       "2         None        1202  187 Oct 12, 2018 (NY)               1   \n",
       "3         None        1202  187 Oct 12, 2018 (NY)               1   \n",
       "4         None        1202  187 Oct 12, 2018 (NY)               1   \n",
       "\n",
       "  BottleSummary Conditions Designation LotNo Producer ProducerAndDesignation  \\\n",
       "0      1 bottle     bn sdc        None     1     None                          \n",
       "1      1 bottle                   None     1     None                          \n",
       "2      1 bottle        spc        None     1     None                          \n",
       "3      1 bottle                   None     1     None                          \n",
       "4      1 bottle                   None     1     None                          \n",
       "\n",
       "     Size  SoldAmount Vintage             Wine  \n",
       "0  bottle      3968.0    1982  Chateau Angelus  \n",
       "1  bottle      3968.0    1983  Chateau Angelus  \n",
       "2  bottle      3968.0    1985  Chateau Angelus  \n",
       "3  bottle      3968.0    1988  Chateau Angelus  \n",
       "4  bottle      3968.0    1990  Chateau Angelus  "
      ]
     },
     "execution_count": 5,
     "metadata": {},
     "output_type": "execute_result"
    }
   ],
   "source": [
    "df.head()"
   ]
  },
  {
   "cell_type": "code",
   "execution_count": 7,
   "metadata": {},
   "outputs": [
    {
     "data": {
      "text/plain": [
       "(31962, 14)"
      ]
     },
     "execution_count": 7,
     "metadata": {},
     "output_type": "execute_result"
    }
   ],
   "source": [
    "df.shape"
   ]
  },
  {
   "cell_type": "code",
   "execution_count": 21,
   "metadata": {},
   "outputs": [],
   "source": [
    "wine_vintage_df = df.groupby(['Wine', 'Vintage']).agg(['count', 'sum'])['BottleQuantity']"
   ]
  },
  {
   "cell_type": "code",
   "execution_count": 23,
   "metadata": {},
   "outputs": [],
   "source": [
    "wine_vintage_df = wine_vintage_df.reset_index()\n",
    "wine_vintage_df = wine_vintage_df.sort_values('sum', ascending = False)"
   ]
  },
  {
   "cell_type": "code",
   "execution_count": 25,
   "metadata": {},
   "outputs": [
    {
     "data": {
      "text/html": [
       "<div>\n",
       "<table border=\"1\" class=\"dataframe\">\n",
       "  <thead>\n",
       "    <tr style=\"text-align: right;\">\n",
       "      <th></th>\n",
       "      <th>Wine</th>\n",
       "      <th>Vintage</th>\n",
       "      <th>count</th>\n",
       "      <th>sum</th>\n",
       "    </tr>\n",
       "  </thead>\n",
       "  <tbody>\n",
       "    <tr>\n",
       "      <th>5787</th>\n",
       "      <td>Rioja</td>\n",
       "      <td>1970</td>\n",
       "      <td>33</td>\n",
       "      <td>649</td>\n",
       "    </tr>\n",
       "    <tr>\n",
       "      <th>3483</th>\n",
       "      <td>Dom Perignon Vintage Champagne</td>\n",
       "      <td>2002</td>\n",
       "      <td>55</td>\n",
       "      <td>605</td>\n",
       "    </tr>\n",
       "    <tr>\n",
       "      <th>2837</th>\n",
       "      <td>Chateauneuf du Pape</td>\n",
       "      <td>2007</td>\n",
       "      <td>74</td>\n",
       "      <td>526</td>\n",
       "    </tr>\n",
       "    <tr>\n",
       "      <th>5450</th>\n",
       "      <td>Puligny Montrachet</td>\n",
       "      <td>2005</td>\n",
       "      <td>50</td>\n",
       "      <td>458</td>\n",
       "    </tr>\n",
       "    <tr>\n",
       "      <th>324</th>\n",
       "      <td>Barolo</td>\n",
       "      <td>2004</td>\n",
       "      <td>59</td>\n",
       "      <td>437</td>\n",
       "    </tr>\n",
       "  </tbody>\n",
       "</table>\n",
       "</div>"
      ],
      "text/plain": [
       "                                Wine Vintage  count  sum\n",
       "5787                           Rioja    1970     33  649\n",
       "3483  Dom Perignon Vintage Champagne    2002     55  605\n",
       "2837             Chateauneuf du Pape    2007     74  526\n",
       "5450              Puligny Montrachet    2005     50  458\n",
       "324                           Barolo    2004     59  437"
      ]
     },
     "execution_count": 25,
     "metadata": {},
     "output_type": "execute_result"
    }
   ],
   "source": [
    "wine_vintage_df.head()"
   ]
  },
  {
   "cell_type": "code",
   "execution_count": null,
   "metadata": {},
   "outputs": [],
   "source": []
  }
 ],
 "metadata": {
  "kernelspec": {
   "display_name": "Python 3",
   "language": "python",
   "name": "python3"
  },
  "language_info": {
   "codemirror_mode": {
    "name": "ipython",
    "version": 3
   },
   "file_extension": ".py",
   "mimetype": "text/x-python",
   "name": "python",
   "nbconvert_exporter": "python",
   "pygments_lexer": "ipython3",
   "version": "3.6.0"
  }
 },
 "nbformat": 4,
 "nbformat_minor": 2
}
