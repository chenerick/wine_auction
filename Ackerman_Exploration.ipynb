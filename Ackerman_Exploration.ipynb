{
 "cells": [
  {
   "cell_type": "code",
   "execution_count": 166,
   "metadata": {
    "collapsed": false
   },
   "outputs": [],
   "source": [
    "import Scrapers.ackerman_scraper as ack_scraper\n",
    "import numpy as np"
   ]
  },
  {
   "cell_type": "code",
   "execution_count": 167,
   "metadata": {
    "collapsed": false
   },
   "outputs": [
    {
     "name": "stdout",
     "output_type": "stream",
     "text": [
      "{1185: '183 Apr 7, 2018 (NY)', 1187: '183A Apr 21, 2018 (HK)', 1188: '184 May 16, 2018 (NY)', 1190: '184A Jun 9, 2018 (HK)', 1192: '185 Jun 20, 2018 (NY)', 1184: '182A Mar 24, 2018 (HK)', 1196: '186 Sep 7, 2018 (NY)', 1197: '185A Sep 22, 2018 (HK)', 1165: '175A Sep 23, 2017 (HK)', 1168: '177 Oct 13, 2017 (NY)', 1202: '187 Oct 12, 2018 (NY)', 1172: '178 Nov 18, 2017 (NY)', 1173: '177A Dec 9, 2017 (HK)', 1174: '179 Dec 13, 2017 (NY)', 1177: '181A Jan 27, 2018 (HK)', 1179: '181 Feb 9, 2018 (NY)', 1163: '176 Sep 9, 2017 (NY)', 1181: '182 Mar 10, 2018 (NY)', 1170: '176A Nov 4, 2017 (HK)'}\n",
      "1185 183 Apr 7, 2018 (NY)\n",
      "1187 183A Apr 21, 2018 (HK)\n",
      "1188 184 May 16, 2018 (NY)\n",
      "1190 184A Jun 9, 2018 (HK)\n",
      "1192 185 Jun 20, 2018 (NY)\n",
      "1184 182A Mar 24, 2018 (HK)\n",
      "1196 186 Sep 7, 2018 (NY)\n",
      "1197 185A Sep 22, 2018 (HK)\n",
      "1165 175A Sep 23, 2017 (HK)\n",
      "1168 177 Oct 13, 2017 (NY)\n",
      "1202 187 Oct 12, 2018 (NY)\n",
      "1172 178 Nov 18, 2017 (NY)\n",
      "1173 177A Dec 9, 2017 (HK)\n",
      "1174 179 Dec 13, 2017 (NY)\n",
      "1177 181A Jan 27, 2018 (HK)\n",
      "1179 181 Feb 9, 2018 (NY)\n",
      "1163 176 Sep 9, 2017 (NY)\n",
      "1181 182 Mar 10, 2018 (NY)\n",
      "1170 176A Nov 4, 2017 (HK)\n"
     ]
    }
   ],
   "source": [
    "raw = ack_scraper.dataframe_ackerman_auction()"
   ]
  },
  {
   "cell_type": "code",
   "execution_count": 168,
   "metadata": {
    "collapsed": false
   },
   "outputs": [
    {
     "data": {
      "text/html": [
       "<div>\n",
       "<table border=\"1\" class=\"dataframe\">\n",
       "  <thead>\n",
       "    <tr style=\"text-align: right;\">\n",
       "      <th></th>\n",
       "      <th>Auction.Date</th>\n",
       "      <th>Auction.ID</th>\n",
       "      <th>Auction.Name</th>\n",
       "      <th>BottleQuantity</th>\n",
       "      <th>BottleSummary</th>\n",
       "      <th>Conditions</th>\n",
       "      <th>Designation</th>\n",
       "      <th>LotNo</th>\n",
       "      <th>Producer</th>\n",
       "      <th>ProducerAndDesignation</th>\n",
       "      <th>Size</th>\n",
       "      <th>SoldAmount</th>\n",
       "      <th>Vintage</th>\n",
       "      <th>Wine</th>\n",
       "    </tr>\n",
       "  </thead>\n",
       "  <tbody>\n",
       "    <tr>\n",
       "      <th>0</th>\n",
       "      <td>None</td>\n",
       "      <td>1185</td>\n",
       "      <td>183 Apr 7, 2018 (NY)</td>\n",
       "      <td>1</td>\n",
       "      <td>1 magnum</td>\n",
       "      <td>1x1 magnum owc lscl</td>\n",
       "      <td>Hommage a Jacques Perrin</td>\n",
       "      <td>1</td>\n",
       "      <td>Chateau de Beaucastel</td>\n",
       "      <td>Hommage a Jacques Perrin, Chateau de Beaucastel</td>\n",
       "      <td>magnum</td>\n",
       "      <td>1860.0</td>\n",
       "      <td>1989</td>\n",
       "      <td>Chateauneuf du Pape</td>\n",
       "    </tr>\n",
       "    <tr>\n",
       "      <th>1</th>\n",
       "      <td>None</td>\n",
       "      <td>1185</td>\n",
       "      <td>183 Apr 7, 2018 (NY)</td>\n",
       "      <td>3</td>\n",
       "      <td>3 bottles</td>\n",
       "      <td>1lscl</td>\n",
       "      <td>Hommage a Jacques Perrin</td>\n",
       "      <td>2</td>\n",
       "      <td>Chateau de Beaucastel</td>\n",
       "      <td>Hommage a Jacques Perrin, Chateau de Beaucastel</td>\n",
       "      <td>bottle</td>\n",
       "      <td>1736.0</td>\n",
       "      <td>2001</td>\n",
       "      <td>Chateauneuf du Pape</td>\n",
       "    </tr>\n",
       "    <tr>\n",
       "      <th>2</th>\n",
       "      <td>None</td>\n",
       "      <td>1185</td>\n",
       "      <td>183 Apr 7, 2018 (NY)</td>\n",
       "      <td>1</td>\n",
       "      <td>1 magnum</td>\n",
       "      <td>1x1 magnum owc</td>\n",
       "      <td>Hommage a Jacques Perrin</td>\n",
       "      <td>2</td>\n",
       "      <td>Chateau de Beaucastel</td>\n",
       "      <td>Hommage a Jacques Perrin, Chateau de Beaucastel</td>\n",
       "      <td>magnum</td>\n",
       "      <td>1736.0</td>\n",
       "      <td>2001</td>\n",
       "      <td>Chateauneuf du Pape</td>\n",
       "    </tr>\n",
       "    <tr>\n",
       "      <th>3</th>\n",
       "      <td>None</td>\n",
       "      <td>1185</td>\n",
       "      <td>183 Apr 7, 2018 (NY)</td>\n",
       "      <td>1</td>\n",
       "      <td>1 bottle</td>\n",
       "      <td>3.75cm bc cuc gsvl lscl outstanding color and ...</td>\n",
       "      <td>None</td>\n",
       "      <td>3</td>\n",
       "      <td>Chateau Rayas</td>\n",
       "      <td>Chateau Rayas</td>\n",
       "      <td>bottle</td>\n",
       "      <td>13640.0</td>\n",
       "      <td>1929</td>\n",
       "      <td>Chateauneuf du Pape</td>\n",
       "    </tr>\n",
       "    <tr>\n",
       "      <th>4</th>\n",
       "      <td>None</td>\n",
       "      <td>1185</td>\n",
       "      <td>183 Apr 7, 2018 (NY)</td>\n",
       "      <td>1</td>\n",
       "      <td>1 bottle</td>\n",
       "      <td>7.5cm bc excellent color lscl lstl</td>\n",
       "      <td>None</td>\n",
       "      <td>4</td>\n",
       "      <td>Chateau Rayas</td>\n",
       "      <td>Chateau Rayas</td>\n",
       "      <td>bottle</td>\n",
       "      <td>4712.0</td>\n",
       "      <td>1959</td>\n",
       "      <td>Chateauneuf du Pape</td>\n",
       "    </tr>\n",
       "  </tbody>\n",
       "</table>\n",
       "</div>"
      ],
      "text/plain": [
       "  Auction.Date  Auction.ID          Auction.Name  BottleQuantity  \\\n",
       "0         None        1185  183 Apr 7, 2018 (NY)               1   \n",
       "1         None        1185  183 Apr 7, 2018 (NY)               3   \n",
       "2         None        1185  183 Apr 7, 2018 (NY)               1   \n",
       "3         None        1185  183 Apr 7, 2018 (NY)               1   \n",
       "4         None        1185  183 Apr 7, 2018 (NY)               1   \n",
       "\n",
       "  BottleSummary                                         Conditions  \\\n",
       "0      1 magnum                                1x1 magnum owc lscl   \n",
       "1     3 bottles                                              1lscl   \n",
       "2      1 magnum                                     1x1 magnum owc   \n",
       "3      1 bottle  3.75cm bc cuc gsvl lscl outstanding color and ...   \n",
       "4      1 bottle                 7.5cm bc excellent color lscl lstl   \n",
       "\n",
       "                Designation LotNo               Producer  \\\n",
       "0  Hommage a Jacques Perrin     1  Chateau de Beaucastel   \n",
       "1  Hommage a Jacques Perrin     2  Chateau de Beaucastel   \n",
       "2  Hommage a Jacques Perrin     2  Chateau de Beaucastel   \n",
       "3                      None     3          Chateau Rayas   \n",
       "4                      None     4          Chateau Rayas   \n",
       "\n",
       "                            ProducerAndDesignation    Size  SoldAmount  \\\n",
       "0  Hommage a Jacques Perrin, Chateau de Beaucastel  magnum      1860.0   \n",
       "1  Hommage a Jacques Perrin, Chateau de Beaucastel  bottle      1736.0   \n",
       "2  Hommage a Jacques Perrin, Chateau de Beaucastel  magnum      1736.0   \n",
       "3                                    Chateau Rayas  bottle     13640.0   \n",
       "4                                    Chateau Rayas  bottle      4712.0   \n",
       "\n",
       "  Vintage                 Wine  \n",
       "0    1989  Chateauneuf du Pape  \n",
       "1    2001  Chateauneuf du Pape  \n",
       "2    2001  Chateauneuf du Pape  \n",
       "3    1929  Chateauneuf du Pape  \n",
       "4    1959  Chateauneuf du Pape  "
      ]
     },
     "execution_count": 168,
     "metadata": {},
     "output_type": "execute_result"
    }
   ],
   "source": [
    "raw.head()"
   ]
  },
  {
   "cell_type": "code",
   "execution_count": 156,
   "metadata": {
    "collapsed": false
   },
   "outputs": [
    {
     "data": {
      "text/plain": [
       "(31962, 14)"
      ]
     },
     "execution_count": 156,
     "metadata": {},
     "output_type": "execute_result"
    }
   ],
   "source": [
    "raw.shape"
   ]
  },
  {
   "cell_type": "code",
   "execution_count": 200,
   "metadata": {
    "collapsed": false
   },
   "outputs": [
    {
     "data": {
      "text/plain": [
       "(13394, 15)"
      ]
     },
     "execution_count": 200,
     "metadata": {},
     "output_type": "execute_result"
    }
   ],
   "source": [
    "# need to group by lot number, append most rows, but the price seems to be static so don't sum that\n",
    "# for now,  filtering away mixed lots by saying anything that has shared lot numbers shoudl be removed\n",
    "\n",
    "df = raw.drop_duplicates(subset=['Auction.ID', 'LotNo'], keep=False)\n",
    "df = df.reset_index()\n",
    "df.shape"
   ]
  },
  {
   "cell_type": "code",
   "execution_count": 201,
   "metadata": {
    "collapsed": false
   },
   "outputs": [
    {
     "data": {
      "text/html": [
       "<div>\n",
       "<table border=\"1\" class=\"dataframe\">\n",
       "  <thead>\n",
       "    <tr style=\"text-align: right;\">\n",
       "      <th></th>\n",
       "      <th>index</th>\n",
       "      <th>Auction.Date</th>\n",
       "      <th>Auction.ID</th>\n",
       "      <th>Auction.Name</th>\n",
       "      <th>BottleQuantity</th>\n",
       "      <th>BottleSummary</th>\n",
       "      <th>Conditions</th>\n",
       "      <th>Designation</th>\n",
       "      <th>LotNo</th>\n",
       "      <th>Producer</th>\n",
       "      <th>ProducerAndDesignation</th>\n",
       "      <th>Size</th>\n",
       "      <th>SoldAmount</th>\n",
       "      <th>Vintage</th>\n",
       "      <th>Wine</th>\n",
       "    </tr>\n",
       "  </thead>\n",
       "  <tbody>\n",
       "    <tr>\n",
       "      <th>0</th>\n",
       "      <td>0</td>\n",
       "      <td>None</td>\n",
       "      <td>1185</td>\n",
       "      <td>183 Apr 7, 2018 (NY)</td>\n",
       "      <td>1</td>\n",
       "      <td>1 magnum</td>\n",
       "      <td>1x1 magnum owc lscl</td>\n",
       "      <td>Hommage a Jacques Perrin</td>\n",
       "      <td>1</td>\n",
       "      <td>Chateau de Beaucastel</td>\n",
       "      <td>Hommage a Jacques Perrin, Chateau de Beaucastel</td>\n",
       "      <td>magnum</td>\n",
       "      <td>1860.0</td>\n",
       "      <td>1989</td>\n",
       "      <td>Chateauneuf du Pape</td>\n",
       "    </tr>\n",
       "    <tr>\n",
       "      <th>1</th>\n",
       "      <td>3</td>\n",
       "      <td>None</td>\n",
       "      <td>1185</td>\n",
       "      <td>183 Apr 7, 2018 (NY)</td>\n",
       "      <td>1</td>\n",
       "      <td>1 bottle</td>\n",
       "      <td>3.75cm bc cuc gsvl lscl outstanding color and ...</td>\n",
       "      <td>None</td>\n",
       "      <td>3</td>\n",
       "      <td>Chateau Rayas</td>\n",
       "      <td>Chateau Rayas</td>\n",
       "      <td>bottle</td>\n",
       "      <td>13640.0</td>\n",
       "      <td>1929</td>\n",
       "      <td>Chateauneuf du Pape</td>\n",
       "    </tr>\n",
       "    <tr>\n",
       "      <th>2</th>\n",
       "      <td>4</td>\n",
       "      <td>None</td>\n",
       "      <td>1185</td>\n",
       "      <td>183 Apr 7, 2018 (NY)</td>\n",
       "      <td>1</td>\n",
       "      <td>1 bottle</td>\n",
       "      <td>7.5cm bc excellent color lscl lstl</td>\n",
       "      <td>None</td>\n",
       "      <td>4</td>\n",
       "      <td>Chateau Rayas</td>\n",
       "      <td>Chateau Rayas</td>\n",
       "      <td>bottle</td>\n",
       "      <td>4712.0</td>\n",
       "      <td>1959</td>\n",
       "      <td>Chateauneuf du Pape</td>\n",
       "    </tr>\n",
       "    <tr>\n",
       "      <th>3</th>\n",
       "      <td>5</td>\n",
       "      <td>None</td>\n",
       "      <td>1185</td>\n",
       "      <td>183 Apr 7, 2018 (NY)</td>\n",
       "      <td>1</td>\n",
       "      <td>1 bottle</td>\n",
       "      <td>7.5cm bc bsl excellent color</td>\n",
       "      <td>None</td>\n",
       "      <td>5</td>\n",
       "      <td>Chateau Rayas</td>\n",
       "      <td>Chateau Rayas</td>\n",
       "      <td>bottle</td>\n",
       "      <td>3472.0</td>\n",
       "      <td>1961</td>\n",
       "      <td>Chateauneuf du Pape</td>\n",
       "    </tr>\n",
       "    <tr>\n",
       "      <th>4</th>\n",
       "      <td>6</td>\n",
       "      <td>None</td>\n",
       "      <td>1185</td>\n",
       "      <td>183 Apr 7, 2018 (NY)</td>\n",
       "      <td>2</td>\n",
       "      <td>2 bottles</td>\n",
       "      <td>1 excellent color 1 outstanding color and cond...</td>\n",
       "      <td>None</td>\n",
       "      <td>6</td>\n",
       "      <td>Chateau Rayas</td>\n",
       "      <td>Chateau Rayas</td>\n",
       "      <td>bottle</td>\n",
       "      <td>4960.0</td>\n",
       "      <td>1978</td>\n",
       "      <td>Chateauneuf du Pape</td>\n",
       "    </tr>\n",
       "  </tbody>\n",
       "</table>\n",
       "</div>"
      ],
      "text/plain": [
       "   index Auction.Date  Auction.ID          Auction.Name  BottleQuantity  \\\n",
       "0      0         None        1185  183 Apr 7, 2018 (NY)               1   \n",
       "1      3         None        1185  183 Apr 7, 2018 (NY)               1   \n",
       "2      4         None        1185  183 Apr 7, 2018 (NY)               1   \n",
       "3      5         None        1185  183 Apr 7, 2018 (NY)               1   \n",
       "4      6         None        1185  183 Apr 7, 2018 (NY)               2   \n",
       "\n",
       "  BottleSummary                                         Conditions  \\\n",
       "0      1 magnum                                1x1 magnum owc lscl   \n",
       "1      1 bottle  3.75cm bc cuc gsvl lscl outstanding color and ...   \n",
       "2      1 bottle                 7.5cm bc excellent color lscl lstl   \n",
       "3      1 bottle                       7.5cm bc bsl excellent color   \n",
       "4     2 bottles  1 excellent color 1 outstanding color and cond...   \n",
       "\n",
       "                Designation LotNo               Producer  \\\n",
       "0  Hommage a Jacques Perrin     1  Chateau de Beaucastel   \n",
       "1                      None     3          Chateau Rayas   \n",
       "2                      None     4          Chateau Rayas   \n",
       "3                      None     5          Chateau Rayas   \n",
       "4                      None     6          Chateau Rayas   \n",
       "\n",
       "                            ProducerAndDesignation    Size  SoldAmount  \\\n",
       "0  Hommage a Jacques Perrin, Chateau de Beaucastel  magnum      1860.0   \n",
       "1                                    Chateau Rayas  bottle     13640.0   \n",
       "2                                    Chateau Rayas  bottle      4712.0   \n",
       "3                                    Chateau Rayas  bottle      3472.0   \n",
       "4                                    Chateau Rayas  bottle      4960.0   \n",
       "\n",
       "  Vintage                 Wine  \n",
       "0    1989  Chateauneuf du Pape  \n",
       "1    1929  Chateauneuf du Pape  \n",
       "2    1959  Chateauneuf du Pape  \n",
       "3    1961  Chateauneuf du Pape  \n",
       "4    1978  Chateauneuf du Pape  "
      ]
     },
     "execution_count": 201,
     "metadata": {},
     "output_type": "execute_result"
    }
   ],
   "source": [
    "df.head()"
   ]
  },
  {
   "cell_type": "code",
   "execution_count": 203,
   "metadata": {
    "collapsed": false
   },
   "outputs": [
    {
     "data": {
      "text/plain": [
       "(11055, 17)"
      ]
     },
     "execution_count": 203,
     "metadata": {},
     "output_type": "execute_result"
    }
   ],
   "source": [
    "# convert to dollars\n",
    "HKDUSD = 0.1277\n",
    "def toUSD(row):\n",
    "    if 'HK' in row['Auction.Name']:\n",
    "       return row['SoldAmount'] * HKDUSD\n",
    "    else:\n",
    "       return row['SoldAmount'] \n",
    "\n",
    "df['SoldAmountUSD'] = df.apply( toUSD, axis = 1 )\n",
    "    \n",
    "# compute unit price by bottle\n",
    "df['UnitPriceUSD'] = df[ 'SoldAmountUSD' ] / df[ 'BottleQuantity' ]\n",
    "\n",
    "# bottle sizes only for now\n",
    "bottle_df = df[ df[\"BottleSummary\"].str.contains( \"bottle\") ]\n",
    "bottle_df.shape"
   ]
  },
  {
   "cell_type": "code",
   "execution_count": 218,
   "metadata": {
    "collapsed": false
   },
   "outputs": [],
   "source": [
    "bottle_grouped = bottle_df.groupby(['Wine', 'Vintage', \"Producer\"]).UnitPriceUSD.agg( ['min', 'mean', 'max', \"count\"] )\n",
    "bottle_grouped = bottle_grouped.reset_index()\n",
    "bottle_grouped = bottle_grouped.sort_values('count', ascending = False)"
   ]
  },
  {
   "cell_type": "code",
   "execution_count": 219,
   "metadata": {
    "collapsed": false
   },
   "outputs": [],
   "source": [
    "mouton_grouped = bottle_grouped[ bottle_grouped[\"Wine\"].str.contains( \"Mouton\") ]"
   ]
  },
  {
   "cell_type": "code",
   "execution_count": 220,
   "metadata": {
    "collapsed": false
   },
   "outputs": [],
   "source": [
    "mouton_all = bottle_df[ bottle_df[\"Wine\"].str.contains( \"Mouton\") ]"
   ]
  },
  {
   "cell_type": "code",
   "execution_count": 221,
   "metadata": {
    "collapsed": false
   },
   "outputs": [
    {
     "data": {
      "text/html": [
       "<div>\n",
       "<table border=\"1\" class=\"dataframe\">\n",
       "  <thead>\n",
       "    <tr style=\"text-align: right;\">\n",
       "      <th></th>\n",
       "      <th>Auction.Date</th>\n",
       "      <th>Auction.ID</th>\n",
       "      <th>Auction.Name</th>\n",
       "      <th>BottleQuantity</th>\n",
       "      <th>BottleSummary</th>\n",
       "      <th>Conditions</th>\n",
       "      <th>Designation</th>\n",
       "      <th>LotNo</th>\n",
       "      <th>Producer</th>\n",
       "      <th>ProducerAndDesignation</th>\n",
       "      <th>Size</th>\n",
       "      <th>SoldAmount</th>\n",
       "      <th>Vintage</th>\n",
       "      <th>Wine</th>\n",
       "      <th>SoldAmountUSD</th>\n",
       "      <th>UnitPriceUSD</th>\n",
       "    </tr>\n",
       "  </thead>\n",
       "  <tbody>\n",
       "  </tbody>\n",
       "</table>\n",
       "</div>"
      ],
      "text/plain": [
       "Empty DataFrame\n",
       "Columns: [Auction.Date, Auction.ID, Auction.Name, BottleQuantity, BottleSummary, Conditions, Designation, LotNo, Producer, ProducerAndDesignation, Size, SoldAmount, Vintage, Wine, SoldAmountUSD, UnitPriceUSD]\n",
       "Index: []"
      ]
     },
     "execution_count": 221,
     "metadata": {},
     "output_type": "execute_result"
    }
   ],
   "source": [
    "outliers = mouton[ mouton['UnitPriceUSD'] > 10000 ]\n",
    "outliers[ outliers[ 'Vintage' ] == \"1982\" ] "
   ]
  },
  {
   "cell_type": "code",
   "execution_count": 222,
   "metadata": {
    "collapsed": false
   },
   "outputs": [
    {
     "data": {
      "text/html": [
       "<div>\n",
       "<table border=\"1\" class=\"dataframe\">\n",
       "  <thead>\n",
       "    <tr style=\"text-align: right;\">\n",
       "      <th></th>\n",
       "      <th>Wine</th>\n",
       "      <th>Vintage</th>\n",
       "      <th>Producer</th>\n",
       "      <th>min</th>\n",
       "      <th>mean</th>\n",
       "      <th>max</th>\n",
       "      <th>count</th>\n",
       "    </tr>\n",
       "  </thead>\n",
       "  <tbody>\n",
       "    <tr>\n",
       "      <th>1438</th>\n",
       "      <td>Chateau Mouton Rothschild</td>\n",
       "      <td>2000</td>\n",
       "      <td>Chateau Mouton Rothschild</td>\n",
       "      <td>1766.346400</td>\n",
       "      <td>1999.909783</td>\n",
       "      <td>2365.642500</td>\n",
       "      <td>25</td>\n",
       "    </tr>\n",
       "    <tr>\n",
       "      <th>1425</th>\n",
       "      <td>Chateau Mouton Rothschild</td>\n",
       "      <td>1982</td>\n",
       "      <td>Chateau Mouton Rothschild</td>\n",
       "      <td>992.000000</td>\n",
       "      <td>1215.591410</td>\n",
       "      <td>1482.000000</td>\n",
       "      <td>23</td>\n",
       "    </tr>\n",
       "    <tr>\n",
       "      <th>1428</th>\n",
       "      <td>Chateau Mouton Rothschild</td>\n",
       "      <td>1986</td>\n",
       "      <td>Chateau Mouton Rothschild</td>\n",
       "      <td>806.000000</td>\n",
       "      <td>905.878661</td>\n",
       "      <td>1033.333333</td>\n",
       "      <td>23</td>\n",
       "    </tr>\n",
       "    <tr>\n",
       "      <th>1436</th>\n",
       "      <td>Chateau Mouton Rothschild</td>\n",
       "      <td>1998</td>\n",
       "      <td>Chateau Mouton Rothschild</td>\n",
       "      <td>232.500000</td>\n",
       "      <td>500.521879</td>\n",
       "      <td>633.392000</td>\n",
       "      <td>11</td>\n",
       "    </tr>\n",
       "    <tr>\n",
       "      <th>1434</th>\n",
       "      <td>Chateau Mouton Rothschild</td>\n",
       "      <td>1995</td>\n",
       "      <td>Chateau Mouton Rothschild</td>\n",
       "      <td>499.413417</td>\n",
       "      <td>535.796175</td>\n",
       "      <td>568.333333</td>\n",
       "      <td>10</td>\n",
       "    </tr>\n",
       "  </tbody>\n",
       "</table>\n",
       "</div>"
      ],
      "text/plain": [
       "                           Wine Vintage                   Producer  \\\n",
       "1438  Chateau Mouton Rothschild    2000  Chateau Mouton Rothschild   \n",
       "1425  Chateau Mouton Rothschild    1982  Chateau Mouton Rothschild   \n",
       "1428  Chateau Mouton Rothschild    1986  Chateau Mouton Rothschild   \n",
       "1436  Chateau Mouton Rothschild    1998  Chateau Mouton Rothschild   \n",
       "1434  Chateau Mouton Rothschild    1995  Chateau Mouton Rothschild   \n",
       "\n",
       "              min         mean          max  count  \n",
       "1438  1766.346400  1999.909783  2365.642500     25  \n",
       "1425   992.000000  1215.591410  1482.000000     23  \n",
       "1428   806.000000   905.878661  1033.333333     23  \n",
       "1436   232.500000   500.521879   633.392000     11  \n",
       "1434   499.413417   535.796175   568.333333     10  "
      ]
     },
     "execution_count": 222,
     "metadata": {},
     "output_type": "execute_result"
    }
   ],
   "source": [
    "mouton_grouped.head()"
   ]
  },
  {
   "cell_type": "code",
   "execution_count": null,
   "metadata": {
    "collapsed": true
   },
   "outputs": [],
   "source": []
  }
 ],
 "metadata": {
  "kernelspec": {
   "display_name": "Python 3",
   "language": "python",
   "name": "python3"
  },
  "language_info": {
   "codemirror_mode": {
    "name": "ipython",
    "version": 3
   },
   "file_extension": ".py",
   "mimetype": "text/x-python",
   "name": "python",
   "nbconvert_exporter": "python",
   "pygments_lexer": "ipython3",
   "version": "3.5.1"
  }
 },
 "nbformat": 4,
 "nbformat_minor": 2
}
